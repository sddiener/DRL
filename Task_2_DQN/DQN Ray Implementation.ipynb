{
 "cells": [
  {
   "cell_type": "code",
   "execution_count": 6,
   "metadata": {
    "colab": {
     "base_uri": "https://localhost:8080/"
    },
    "id": "xhRVpY12qvzD",
    "outputId": "0c4fe4f8-596c-42e9-b811-2f8f5480d928"
   },
   "outputs": [],
   "source": [
    "#from google.colab import drive\n",
    "#drive.mount('/content/gdrive')\n",
    "#path = '/content/gdrive/My Drive/Colab Notebooks/707/Labs/'\n",
    "#import sys\n",
    "#sys.path.append(path)"
   ]
  },
  {
   "cell_type": "code",
   "execution_count": 7,
   "metadata": {
    "id": "XRSA3yCcxoCJ"
   },
   "outputs": [],
   "source": [
    "# !pip install torch\n",
    "# !pip install -U \"ray[rllib]\" torch"
   ]
  },
  {
   "cell_type": "markdown",
   "metadata": {
    "id": "QauOX-mbyqp_"
   },
   "source": [
    "## Use DQN and train your algorithm on the Dungeon environment.\n",
    "\n",
    "You can take inspiration from:\n",
    "https://docs.ray.io/en/latest/rllib/rllib-training.html#basic-python-api\n",
    "\n",
    "Experiment with the different parameters of the configuration:\n",
    "https://docs.ray.io/en/latest/rllib/rllib-algorithms.html#deep-q-networks-dqn-rainbow-parametric-dqn\n",
    "\n",
    "\n",
    "\n"
   ]
  },
  {
   "cell_type": "code",
   "execution_count": 13,
   "metadata": {
    "colab": {
     "base_uri": "https://localhost:8080/"
    },
    "id": "N3SLeKwjxz6S",
    "outputId": "87f03ac8-6a51-4d0d-c2b7-51288864d9d5"
   },
   "outputs": [
    {
     "name": "stderr",
     "output_type": "stream",
     "text": [
      "Install gputil for GPU system monitoring.\n"
     ]
    },
    {
     "name": "stdout",
     "output_type": "stream",
     "text": [
      "Episode:  0 , Reward:  -144.7368041217595\n",
      "checkpoint saved at C:\\Users\\sdien/ray_results\\DQNTrainer_LunarLander-v2_2022-04-11_17-11-32cu93euij\\checkpoint_000001\\checkpoint-1\n",
      "Episode:  1 , Reward:  -155.10317861258392\n",
      "Episode:  2 , Reward:  -150.04624170274613\n",
      "Episode:  3 , Reward:  -149.89862188873133\n",
      "Episode:  4 , Reward:  -137.49318486877794\n",
      "Episode:  5 , Reward:  -135.52223390627614\n",
      "Episode:  6 , Reward:  -125.728466195671\n",
      "Episode:  7 , Reward:  -125.62760443793287\n",
      "Episode:  8 , Reward:  -125.16990879465864\n",
      "Episode:  9 , Reward:  -125.00567166904024\n",
      "Episode:  10 , Reward:  -124.19740163376741\n",
      "checkpoint saved at C:\\Users\\sdien/ray_results\\DQNTrainer_LunarLander-v2_2022-04-11_17-11-32cu93euij\\checkpoint_000011\\checkpoint-11\n",
      "Episode:  11 , Reward:  -124.18568896303472\n",
      "Episode:  12 , Reward:  -123.42716045222271\n",
      "Episode:  13 , Reward:  -124.61226086070675\n",
      "Episode:  14 , Reward:  -124.34727845472051\n",
      "Episode:  15 , Reward:  -118.71031273658241\n",
      "Episode:  16 , Reward:  -121.16519141134961\n",
      "Episode:  17 , Reward:  -120.16587758764405\n",
      "Episode:  18 , Reward:  -119.3177229324155\n",
      "Episode:  19 , Reward:  -118.08964661467601\n",
      "Episode:  20 , Reward:  -116.69559252563757\n",
      "checkpoint saved at C:\\Users\\sdien/ray_results\\DQNTrainer_LunarLander-v2_2022-04-11_17-11-32cu93euij\\checkpoint_000021\\checkpoint-21\n",
      "Episode:  21 , Reward:  -115.6645121578445\n",
      "Episode:  22 , Reward:  -114.74101561457809\n",
      "Episode:  23 , Reward:  -113.8795612452808\n",
      "Episode:  24 , Reward:  -112.41724299431606\n",
      "Episode:  25 , Reward:  -111.15368145151167\n",
      "Episode:  26 , Reward:  -110.40394467024655\n",
      "Episode:  27 , Reward:  -109.36200412378086\n",
      "Episode:  28 , Reward:  -108.44826816483594\n",
      "Episode:  29 , Reward:  -107.10176449368267\n",
      "Episode:  30 , Reward:  -108.9261447349723\n",
      "checkpoint saved at C:\\Users\\sdien/ray_results\\DQNTrainer_LunarLander-v2_2022-04-11_17-11-32cu93euij\\checkpoint_000031\\checkpoint-31\n",
      "Episode:  31 , Reward:  -107.95688590174919\n",
      "Episode:  32 , Reward:  -108.60740701646523\n",
      "Episode:  33 , Reward:  -109.9817547148829\n",
      "Episode:  34 , Reward:  -110.45391884602574\n",
      "Episode:  35 , Reward:  -111.03313478749479\n",
      "Episode:  36 , Reward:  -106.51680205907574\n",
      "Episode:  37 , Reward:  -107.48691757455535\n",
      "Episode:  38 , Reward:  -106.57624931150298\n",
      "Episode:  39 , Reward:  -106.05211313211531\n",
      "Episode:  40 , Reward:  -104.99895887555157\n",
      "checkpoint saved at C:\\Users\\sdien/ray_results\\DQNTrainer_LunarLander-v2_2022-04-11_17-11-32cu93euij\\checkpoint_000041\\checkpoint-41\n",
      "Episode:  41 , Reward:  -104.08546147049658\n",
      "Episode:  42 , Reward:  -103.11263258604858\n",
      "Episode:  43 , Reward:  -102.39045984754944\n",
      "Episode:  44 , Reward:  -102.7130869426391\n",
      "Episode:  45 , Reward:  -101.82290259819383\n",
      "Episode:  46 , Reward:  -100.64378887483849\n",
      "Episode:  47 , Reward:  -98.49926800687791\n",
      "Episode:  48 , Reward:  -97.59755172634577\n",
      "Episode:  49 , Reward:  -96.30787479157826\n",
      "Episode:  50 , Reward:  -95.78443280281374\n",
      "checkpoint saved at C:\\Users\\sdien/ray_results\\DQNTrainer_LunarLander-v2_2022-04-11_17-11-32cu93euij\\checkpoint_000051\\checkpoint-51\n",
      "Episode:  51 , Reward:  -94.05111522331077\n",
      "Episode:  52 , Reward:  -93.0181212301563\n",
      "Episode:  53 , Reward:  -91.86233100793443\n",
      "Episode:  54 , Reward:  -88.10522089198125\n",
      "Episode:  55 , Reward:  -87.00113441478561\n",
      "Episode:  56 , Reward:  -86.26441206595887\n",
      "Episode:  57 , Reward:  -85.99235389502624\n",
      "Episode:  58 , Reward:  -85.02750633243475\n",
      "Episode:  59 , Reward:  -82.32255432397078\n",
      "Episode:  60 , Reward:  -81.87201315538627\n",
      "checkpoint saved at C:\\Users\\sdien/ray_results\\DQNTrainer_LunarLander-v2_2022-04-11_17-11-32cu93euij\\checkpoint_000061\\checkpoint-61\n",
      "Episode:  61 , Reward:  -80.10445579733673\n",
      "Episode:  62 , Reward:  -80.36055972496054\n",
      "Episode:  63 , Reward:  -80.46471381153735\n",
      "Episode:  64 , Reward:  -80.01245830635108\n",
      "Episode:  65 , Reward:  -78.04003585705188\n",
      "Episode:  66 , Reward:  -75.97355635169244\n",
      "Episode:  67 , Reward:  -76.52112179880099\n",
      "Episode:  68 , Reward:  -75.09204827712453\n",
      "Episode:  69 , Reward:  -76.2226020910718\n",
      "Episode:  70 , Reward:  -74.43640514284063\n",
      "checkpoint saved at C:\\Users\\sdien/ray_results\\DQNTrainer_LunarLander-v2_2022-04-11_17-11-32cu93euij\\checkpoint_000071\\checkpoint-71\n",
      "Episode:  71 , Reward:  -74.60184045436876\n",
      "Episode:  72 , Reward:  -73.76627736554825\n",
      "Episode:  73 , Reward:  -75.56193626610813\n",
      "Episode:  74 , Reward:  -74.32273493426653\n",
      "Episode:  75 , Reward:  -73.9213554273618\n",
      "Episode:  76 , Reward:  -72.48456608199676\n",
      "Episode:  77 , Reward:  -72.54690812625613\n",
      "Episode:  78 , Reward:  -71.1822584087213\n",
      "Episode:  79 , Reward:  -71.48751942614197\n",
      "Episode:  80 , Reward:  -71.04320725742792\n",
      "checkpoint saved at C:\\Users\\sdien/ray_results\\DQNTrainer_LunarLander-v2_2022-04-11_17-11-32cu93euij\\checkpoint_000081\\checkpoint-81\n",
      "Episode:  81 , Reward:  -70.9225474846567\n",
      "Episode:  82 , Reward:  -70.80980863854236\n",
      "Episode:  83 , Reward:  -70.93677075937167\n",
      "Episode:  84 , Reward:  -70.39608088522233\n",
      "Episode:  85 , Reward:  -69.53462386525226\n",
      "Episode:  86 , Reward:  -69.85473148069829\n",
      "Episode:  87 , Reward:  -67.64393184898745\n",
      "Episode:  88 , Reward:  -66.52385418730672\n",
      "Episode:  89 , Reward:  -65.95152660554218\n",
      "Episode:  90 , Reward:  -65.07520869002346\n",
      "checkpoint saved at C:\\Users\\sdien/ray_results\\DQNTrainer_LunarLander-v2_2022-04-11_17-11-32cu93euij\\checkpoint_000091\\checkpoint-91\n",
      "Episode:  91 , Reward:  -65.03420515768957\n",
      "Episode:  92 , Reward:  -65.19912684062272\n",
      "Episode:  93 , Reward:  -65.12840559278207\n",
      "Episode:  94 , Reward:  -64.76718628712773\n",
      "Episode:  95 , Reward:  -65.19841590520704\n",
      "Episode:  96 , Reward:  -64.5129966266321\n",
      "Episode:  97 , Reward:  -63.42346625953239\n",
      "Episode:  98 , Reward:  -62.3312286938655\n",
      "Episode:  99 , Reward:  -61.58136891235632\n"
     ]
    }
   ],
   "source": [
    "import ray\n",
    "import ray.rllib.agents.dqn as dqn\n",
    "from ray.tune.logger import pretty_print\n",
    "from ray import tune \n",
    "\n",
    "config = dqn.DEFAULT_CONFIG.copy()\n",
    "config[\"framework\"] = \"torch\"\n",
    "config[\"dueling\"] = True\n",
    "config[\"double_q\"] = False\n",
    "#config[\"env\"] = DungeonEnv\n",
    "#config[\"env_config\"] = { \"size_env\": 15}\n",
    "config[\"model\"] = { \"fcnet_hiddens\": [64, 64],\n",
    "                    \"fcnet_activation\": \"relu\",\n",
    "}\n",
    "\n",
    "trainer = dqn.DQNTrainer(config=config, env=\"LunarLander-v2\")\n",
    "\n",
    "# Can optionally call trainer.restore(path) to load a checkpoint.\n",
    "avg_rewards = []\n",
    "\n",
    "for i in range(100):\n",
    "    # Perform one iteration of training the policy with PPO\n",
    "    result = trainer.train()\n",
    "    #print(pretty_print(result))\n",
    "    print(\"Episode: \", i, \", Reward: \", result['episode_reward_mean'])\n",
    "    avg_rewards.append(result['episode_reward_mean'])\n",
    "\n",
    "    if i % 10 == 0:\n",
    "        checkpoint = trainer.save()\n",
    "        print(\"checkpoint saved at\", checkpoint)"
   ]
  },
  {
   "cell_type": "code",
   "execution_count": 14,
   "metadata": {
    "colab": {
     "base_uri": "https://localhost:8080/",
     "height": 283
    },
    "id": "JaD__-oszpwu",
    "outputId": "f2aef392-3e19-43bf-fd7a-badb688726c7"
   },
   "outputs": [
    {
     "data": {
      "text/plain": [
       "[<matplotlib.lines.Line2D at 0x2b99cbdc610>]"
      ]
     },
     "execution_count": 14,
     "metadata": {},
     "output_type": "execute_result"
    },
    {
     "data": {
      "image/png": "[encoded data removed]",
      "text/plain": [
       "<Figure size 432x288 with 1 Axes>"
      ]
     },
     "metadata": {
      "needs_background": "light"
     },
     "output_type": "display_data"
    }
   ],
   "source": [
    "import matplotlib.pyplot as plt\n",
    "plt.plot(avg_rewards, 'b.', alpha=.1)"
   ]
  },
  {
   "cell_type": "code",
   "execution_count": null,
   "metadata": {
    "id": "3fQhxxi98ECW"
   },
   "outputs": [],
   "source": []
  }
 ],
 "metadata": {
  "colab": {
   "name": "Lab07.ipynb",
   "provenance": []
  },
  "kernelspec": {
   "display_name": "Python 3 (ipykernel)",
   "language": "python",
   "name": "python3"
  },
  "language_info": {
   "codemirror_mode": {
    "name": "ipython",
    "version": 3
   },
   "file_extension": ".py",
   "mimetype": "text/x-python",
   "name": "python",
   "nbconvert_exporter": "python",
   "pygments_lexer": "ipython3",
   "version": "3.9.7"
  }
 },
 "nbformat": 4,
 "nbformat_minor": 4
}
