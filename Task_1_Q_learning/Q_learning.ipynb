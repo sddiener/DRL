{
 "cells": [
  {
   "cell_type": "code",
   "execution_count": 24,
   "metadata": {},
   "outputs": [],
   "source": [
    "import gym\n",
    "import numpy as np\n",
    "import time \n",
    "import matplotlib.pyplot as plt"
   ]
  },
  {
   "cell_type": "markdown",
   "metadata": {},
   "source": [
    "In this case study, some parts of code is based upon this. \n",
    "\n",
    "https://medium.com/analytics-vidhya/q-learning-is-the-most-basic-form-of-reinforcement-learning-which-doesnt-take-advantage-of-any-8944e02570c5"
   ]
  },
  {
   "cell_type": "code",
   "execution_count": 25,
   "metadata": {},
   "outputs": [
    {
     "name": "stdout",
     "output_type": "stream",
     "text": [
      "Discrete(2)\n",
      "Box([-4.8000002e+00 -3.4028235e+38 -4.1887903e-01 -3.4028235e+38], [4.8000002e+00 3.4028235e+38 4.1887903e-01 3.4028235e+38], (4,), float32)\n"
     ]
    }
   ],
   "source": [
    "env = gym.make('CartPole-v0')\n",
    "print(env.action_space) #[Output: ] Discrete(2)\n",
    "print(env.observation_space) # [Output: ] Box(4,)"
   ]
  },
  {
   "cell_type": "code",
   "execution_count": 26,
   "metadata": {},
   "outputs": [
    {
     "name": "stdout",
     "output_type": "stream",
     "text": [
      "step 0 : 1 [ 0.0309384   0.23842578 -0.02279892 -0.2781424 ] 1.0 False {}\n",
      "step 1 : 1 [ 0.03570692  0.43386543 -0.02836177 -0.577928  ] 1.0 False {}\n",
      "step 2 : 0 [ 0.04438423  0.23915222 -0.03992033 -0.2943129 ] 1.0 False {}\n",
      "step 3 : 1 [ 0.04916727  0.4348199  -0.04580658 -0.59931403] 1.0 False {}\n",
      "step 4 : 0 [ 0.05786367  0.24036776 -0.05779286 -0.3214042 ] 1.0 False {}\n",
      "step 5 : 0 [ 0.06267103  0.0461144  -0.06422095 -0.04749226] 1.0 False {}\n",
      "step 6 : 1 [ 0.06359331  0.24209563 -0.06517079 -0.3597261 ] 1.0 False {}\n",
      "step 7 : 1 [ 0.06843523  0.43808055 -0.07236531 -0.672226  ] 1.0 False {}\n",
      "step 8 : 0 [ 0.07719684  0.24403515 -0.08580983 -0.40317658] 1.0 False {}\n",
      "step 9 : 0 [ 0.08207754  0.05022838 -0.09387337 -0.1387332 ] 1.0 False {}\n"
     ]
    }
   ],
   "source": [
    "# returns an initial observation\n",
    "env.reset()\n",
    "\n",
    "for i in range(10):\n",
    "\n",
    "  # env.action_space.sample() produces either 0 (left) or 1 (right).\n",
    "  action = env.action_space.sample()\n",
    "  observation, reward, done, info = env.step(action)\n",
    "\n",
    "  print(\"step\", i, \":\", action, observation, reward, done, info)\n",
    "  if done:\n",
    "    print(\"Finished after {} timesteps\".format(i+1))\n",
    "    break\n",
    "\n",
    "env.close()"
   ]
  },
  {
   "cell_type": "code",
   "execution_count": 27,
   "metadata": {},
   "outputs": [],
   "source": [
    "def Qtable(state_space,action_space,bin_size = 30):\n",
    "    \n",
    "    bins = [np.linspace(-4.8,4.8,bin_size),\n",
    "            np.linspace(-4,4,bin_size),\n",
    "            np.linspace(-0.418,0.418,bin_size),\n",
    "            np.linspace(-4,4,bin_size)]\n",
    "    \n",
    "    q_table = np.zeros(([bin_size] * state_space + [action_space]))\n",
    "    #q_table = np.random.uniform(low=-1,high=1,size=([bin_size] * state_space + [action_space]))\n",
    "    \n",
    "    return q_table, bins"
   ]
  },
  {
   "cell_type": "code",
   "execution_count": 28,
   "metadata": {},
   "outputs": [
    {
     "data": {
      "text/plain": [
       "(30, 30, 30, 30, 2)"
      ]
     },
     "execution_count": 28,
     "metadata": {},
     "output_type": "execute_result"
    }
   ],
   "source": [
    "bin_size = 30\n",
    "Q, bins = Qtable(4,2,bin_size)\n",
    "Q.shape"
   ]
  },
  {
   "cell_type": "code",
   "execution_count": 29,
   "metadata": {},
   "outputs": [],
   "source": [
    "def Discrete(state, bins):\n",
    "    index = []\n",
    "    for i in range(len(state)): index.append(np.digitize(state[i],bins[i]) - 1)\n",
    "    return tuple(index)"
   ]
  },
  {
   "cell_type": "code",
   "execution_count": 30,
   "metadata": {},
   "outputs": [
    {
     "name": "stdout",
     "output_type": "stream",
     "text": [
      "[-0.01929003 -0.01273676 -0.00979418  0.01199456]\n",
      "(14, 14, 14, 14)\n"
     ]
    }
   ],
   "source": [
    "test_state = env.reset()\n",
    "test_state_discrete = Discrete(test_state, bins)\n",
    "print(test_state)\n",
    "print(test_state_discrete)"
   ]
  },
  {
   "cell_type": "code",
   "execution_count": 31,
   "metadata": {},
   "outputs": [],
   "source": [
    "def Q_learning(q_table, bins, episodes, gamma, lr, timestep, start_epsilon):\n",
    "    \n",
    "    runs = [0]  # list of cumulative reward per episode\n",
    "    data = {'max' : [0], 'avg' : [0], 'epsilon' : [start_epsilon]}\n",
    "    rewards = 0\n",
    "    steps = 0\n",
    "    solved = False\n",
    "\n",
    "    for episode in range(1,episodes+1):\n",
    "        ep_start = time.time()\n",
    "        steps += 1 \n",
    "\n",
    "        epsilon_list = np.linspace(start_epsilon, 0, episodes)  # make epsilon decay to 0 linearly\n",
    "        epsilon = epsilon_list[episode-1]\n",
    "\n",
    "        current_state = Discrete(env.reset(),bins)\n",
    "\n",
    "        score = 0\n",
    "        done = False\n",
    "        while not done:\n",
    "            if episode % timestep==0: env.render()\n",
    "            if np.random.uniform(0,1) < epsilon:  # if random number is less than epsilon, choose random action\n",
    "                    action = env.action_space.sample()\n",
    "            else: # otherwise choose max reward action\n",
    "                action = np.argmax(q_table[current_state])\n",
    "\n",
    "            observation, reward, done, __ = env.step(action)  # take chosen action\n",
    "            new_state = Discrete(observation,bins)\n",
    "            score += reward  \n",
    "            \n",
    "            if not done:\n",
    "                max_future_q = np.max(q_table[new_state])  # best estimated reward at current state\n",
    "                current_q = q_table[current_state+(action,)]\n",
    "                new_q = (1-lr)*current_q + lr*(reward + gamma*max_future_q)\n",
    "                q_table[current_state+(action,)] = new_q\n",
    "\n",
    "            current_state = new_state\n",
    "            \n",
    "        # End of the loop update\n",
    "        else:\n",
    "            rewards += score\n",
    "            runs.append(score)\n",
    "\n",
    "            if score > 195 and steps >= 100 and solved == False:\n",
    "                solved = True\n",
    "                print('First solved in episode : {} in time {}'.format(episode, (time.time()-ep_start)))\n",
    "        \n",
    "        # Timestep value update\n",
    "        if episode % timestep == 0:\n",
    "            print('Episode : {} | Avg. reward -> {} | Max reward : {} | Epsilon : {} | Time : {}'.format(episode, rewards/timestep, max(runs), epsilon, time.time() - ep_start))\n",
    "            data['max'].append(max(runs))\n",
    "            data['avg'].append(rewards/timestep)\n",
    "            data['epsilon'].append(epsilon)\n",
    "\n",
    "            rewards, runs= 0, [0]\n",
    "\n",
    "    env.close()\n",
    "\n",
    "    return q_table, data"
   ]
  },
  {
   "cell_type": "code",
   "execution_count": 32,
   "metadata": {},
   "outputs": [
    {
     "name": "stdout",
     "output_type": "stream",
     "text": [
      "Episode : 100 | Avg. reward -> 31.26 | Max reward : 114.0 | Epsilon : 0.19801980198019803 | Time : 0.2702805995941162\n",
      "Episode : 200 | Avg. reward -> 53.98 | Max reward : 190.0 | Epsilon : 0.19601960196019602 | Time : 0.39014697074890137\n",
      "First solved in episode : 205 in time 0.012965202331542969\n",
      "Episode : 300 | Avg. reward -> 85.74 | Max reward : 200.0 | Epsilon : 0.19401940194019404 | Time : 1.3235008716583252\n",
      "Episode : 400 | Avg. reward -> 84.9 | Max reward : 200.0 | Epsilon : 0.19201920192019203 | Time : 0.5118098258972168\n",
      "Episode : 500 | Avg. reward -> 85.95 | Max reward : 200.0 | Epsilon : 0.19001900190019003 | Time : 1.1131784915924072\n",
      "Episode : 600 | Avg. reward -> 100.85 | Max reward : 200.0 | Epsilon : 0.18801880188018802 | Time : 3.051307439804077\n",
      "Episode : 700 | Avg. reward -> 87.19 | Max reward : 200.0 | Epsilon : 0.18601860186018604 | Time : 1.3842451572418213\n",
      "Episode : 800 | Avg. reward -> 93.53 | Max reward : 200.0 | Epsilon : 0.18401840184018403 | Time : 1.334430456161499\n",
      "Episode : 900 | Avg. reward -> 87.07 | Max reward : 200.0 | Epsilon : 0.18201820182018202 | Time : 1.2127530574798584\n",
      "Episode : 1000 | Avg. reward -> 107.19 | Max reward : 200.0 | Epsilon : 0.18001800180018002 | Time : 3.3470571041107178\n",
      "Episode : 1100 | Avg. reward -> 89.45 | Max reward : 200.0 | Epsilon : 0.17801780178017804 | Time : 1.2277953624725342\n",
      "Episode : 1200 | Avg. reward -> 109.88 | Max reward : 200.0 | Epsilon : 0.17601760176017603 | Time : 2.738673210144043\n",
      "Episode : 1300 | Avg. reward -> 111.52 | Max reward : 200.0 | Epsilon : 0.17401740174017402 | Time : 1.9118232727050781\n",
      "Episode : 1400 | Avg. reward -> 100.61 | Max reward : 200.0 | Epsilon : 0.17201720172017204 | Time : 2.275359869003296\n",
      "Episode : 1500 | Avg. reward -> 119.12 | Max reward : 200.0 | Epsilon : 0.17001700170017003 | Time : 1.2417445182800293\n",
      "Episode : 1600 | Avg. reward -> 117.83 | Max reward : 200.0 | Epsilon : 0.16801680168016803 | Time : 3.2147634029388428\n",
      "Episode : 1700 | Avg. reward -> 109.51 | Max reward : 200.0 | Epsilon : 0.16601660166016602 | Time : 3.335583448410034\n",
      "Episode : 1800 | Avg. reward -> 118.44 | Max reward : 200.0 | Epsilon : 0.164016401640164 | Time : 1.2148981094360352\n",
      "Episode : 1900 | Avg. reward -> 107.46 | Max reward : 200.0 | Epsilon : 0.16201620162016203 | Time : 3.3328611850738525\n",
      "Episode : 2000 | Avg. reward -> 126.42 | Max reward : 200.0 | Epsilon : 0.16001600160016002 | Time : 3.325124502182007\n",
      "Episode : 2100 | Avg. reward -> 125.48 | Max reward : 200.0 | Epsilon : 0.15801580158015802 | Time : 2.3370490074157715\n",
      "Episode : 2200 | Avg. reward -> 118.9 | Max reward : 200.0 | Epsilon : 0.15601560156015604 | Time : 2.2213613986968994\n",
      "Episode : 2300 | Avg. reward -> 138.58 | Max reward : 200.0 | Epsilon : 0.15401540154015403 | Time : 3.0987114906311035\n",
      "Episode : 2400 | Avg. reward -> 132.14 | Max reward : 200.0 | Epsilon : 0.15201520152015202 | Time : 1.6259911060333252\n",
      "Episode : 2500 | Avg. reward -> 158.36 | Max reward : 200.0 | Epsilon : 0.15001500150015 | Time : 3.336075782775879\n",
      "Episode : 2600 | Avg. reward -> 128.13 | Max reward : 200.0 | Epsilon : 0.14801480148014803 | Time : 1.1633048057556152\n",
      "Episode : 2700 | Avg. reward -> 157.43 | Max reward : 200.0 | Epsilon : 0.14601460146014603 | Time : 2.9581005573272705\n",
      "Episode : 2800 | Avg. reward -> 111.18 | Max reward : 200.0 | Epsilon : 0.14401440144014402 | Time : 3.3264033794403076\n",
      "Episode : 2900 | Avg. reward -> 156.3 | Max reward : 200.0 | Epsilon : 0.14201420142014204 | Time : 3.3263912200927734\n",
      "Episode : 3000 | Avg. reward -> 149.02 | Max reward : 200.0 | Epsilon : 0.14001400140014003 | Time : 3.3540027141571045\n",
      "Episode : 3100 | Avg. reward -> 152.93 | Max reward : 200.0 | Epsilon : 0.13801380138013802 | Time : 2.408926248550415\n",
      "Episode : 3200 | Avg. reward -> 148.16 | Max reward : 200.0 | Epsilon : 0.13601360136013602 | Time : 1.2582371234893799\n",
      "Episode : 3300 | Avg. reward -> 153.52 | Max reward : 200.0 | Epsilon : 0.134013401340134 | Time : 3.3287811279296875\n",
      "Episode : 3400 | Avg. reward -> 149.95 | Max reward : 200.0 | Epsilon : 0.13201320132013203 | Time : 3.333874225616455\n",
      "Episode : 3500 | Avg. reward -> 135.32 | Max reward : 200.0 | Epsilon : 0.13001300130013002 | Time : 2.4493885040283203\n",
      "Episode : 3600 | Avg. reward -> 173.15 | Max reward : 200.0 | Epsilon : 0.12801280128012804 | Time : 2.647308588027954\n",
      "Episode : 3700 | Avg. reward -> 162.08 | Max reward : 200.0 | Epsilon : 0.12601260126012603 | Time : 3.3356845378875732\n",
      "Episode : 3800 | Avg. reward -> 162.55 | Max reward : 200.0 | Epsilon : 0.12401240124012403 | Time : 2.526845693588257\n",
      "Episode : 3900 | Avg. reward -> 145.39 | Max reward : 200.0 | Epsilon : 0.12201220122012202 | Time : 1.832401990890503\n",
      "Episode : 4000 | Avg. reward -> 145.08 | Max reward : 200.0 | Epsilon : 0.12001200120012002 | Time : 1.7647719383239746\n",
      "Episode : 4100 | Avg. reward -> 166.04 | Max reward : 200.0 | Epsilon : 0.11801180118011802 | Time : 3.327857494354248\n",
      "Episode : 4200 | Avg. reward -> 169.03 | Max reward : 200.0 | Epsilon : 0.11601160116011602 | Time : 3.3270199298858643\n",
      "Episode : 4300 | Avg. reward -> 188.94 | Max reward : 200.0 | Epsilon : 0.11401140114011402 | Time : 3.329132080078125\n",
      "Episode : 4400 | Avg. reward -> 158.22 | Max reward : 200.0 | Epsilon : 0.11201120112011202 | Time : 1.2429723739624023\n",
      "Episode : 4500 | Avg. reward -> 149.82 | Max reward : 200.0 | Epsilon : 0.11001100110011001 | Time : 3.328495979309082\n",
      "Episode : 4600 | Avg. reward -> 152.45 | Max reward : 200.0 | Epsilon : 0.10801080108010802 | Time : 3.3343722820281982\n",
      "Episode : 4700 | Avg. reward -> 164.53 | Max reward : 200.0 | Epsilon : 0.10601060106010601 | Time : 3.345360040664673\n",
      "Episode : 4800 | Avg. reward -> 176.05 | Max reward : 200.0 | Epsilon : 0.10401040104010402 | Time : 2.7931835651397705\n",
      "Episode : 4900 | Avg. reward -> 173.69 | Max reward : 200.0 | Epsilon : 0.10201020102010201 | Time : 2.0833041667938232\n",
      "Episode : 5000 | Avg. reward -> 157.17 | Max reward : 200.0 | Epsilon : 0.10001000100010002 | Time : 1.504729986190796\n",
      "Episode : 5100 | Avg. reward -> 179.18 | Max reward : 200.0 | Epsilon : 0.09800980098009801 | Time : 3.3296849727630615\n",
      "Episode : 5200 | Avg. reward -> 176.14 | Max reward : 200.0 | Epsilon : 0.09600960096009602 | Time : 3.3347034454345703\n",
      "Episode : 5300 | Avg. reward -> 163.78 | Max reward : 200.0 | Epsilon : 0.09400940094009402 | Time : 3.3311338424682617\n",
      "Episode : 5400 | Avg. reward -> 164.43 | Max reward : 200.0 | Epsilon : 0.09200920092009202 | Time : 3.328035831451416\n",
      "Episode : 5500 | Avg. reward -> 163.56 | Max reward : 200.0 | Epsilon : 0.09000900090009002 | Time : 2.667158365249634\n",
      "Episode : 5600 | Avg. reward -> 142.45 | Max reward : 200.0 | Epsilon : 0.08800880088008801 | Time : 3.3243675231933594\n",
      "Episode : 5700 | Avg. reward -> 152.14 | Max reward : 200.0 | Epsilon : 0.08600860086008602 | Time : 2.4178202152252197\n",
      "Episode : 5800 | Avg. reward -> 174.46 | Max reward : 200.0 | Epsilon : 0.08400840084008401 | Time : 3.3305530548095703\n",
      "Episode : 5900 | Avg. reward -> 190.32 | Max reward : 200.0 | Epsilon : 0.08200820082008202 | Time : 3.178528308868408\n",
      "Episode : 6000 | Avg. reward -> 183.49 | Max reward : 200.0 | Epsilon : 0.08000800080008001 | Time : 2.490553379058838\n",
      "Episode : 6100 | Avg. reward -> 151.07 | Max reward : 200.0 | Epsilon : 0.07800780078007802 | Time : 2.940394163131714\n",
      "Episode : 6200 | Avg. reward -> 166.61 | Max reward : 200.0 | Epsilon : 0.07600760076007601 | Time : 3.323431968688965\n",
      "Episode : 6300 | Avg. reward -> 165.42 | Max reward : 200.0 | Epsilon : 0.074007400740074 | Time : 3.3231313228607178\n",
      "Episode : 6400 | Avg. reward -> 180.06 | Max reward : 200.0 | Epsilon : 0.07200720072007202 | Time : 1.2105982303619385\n",
      "Episode : 6500 | Avg. reward -> 166.93 | Max reward : 200.0 | Epsilon : 0.07000700070007002 | Time : 3.3370275497436523\n",
      "Episode : 6600 | Avg. reward -> 180.05 | Max reward : 200.0 | Epsilon : 0.06800680068006801 | Time : 3.3465418815612793\n",
      "Episode : 6700 | Avg. reward -> 186.83 | Max reward : 200.0 | Epsilon : 0.066006600660066 | Time : 3.2758190631866455\n",
      "Episode : 6800 | Avg. reward -> 184.38 | Max reward : 200.0 | Epsilon : 0.06400640064006402 | Time : 3.334869861602783\n",
      "Episode : 6900 | Avg. reward -> 189.86 | Max reward : 200.0 | Epsilon : 0.06200620062006201 | Time : 3.327068567276001\n",
      "Episode : 7000 | Avg. reward -> 196.08 | Max reward : 200.0 | Epsilon : 0.060006000600060005 | Time : 2.6757614612579346\n",
      "Episode : 7100 | Avg. reward -> 192.93 | Max reward : 200.0 | Epsilon : 0.058005800580058026 | Time : 2.520143747329712\n",
      "Episode : 7200 | Avg. reward -> 169.18 | Max reward : 200.0 | Epsilon : 0.05600560056005602 | Time : 1.5972497463226318\n",
      "Episode : 7300 | Avg. reward -> 166.17 | Max reward : 200.0 | Epsilon : 0.05400540054005401 | Time : 1.087080717086792\n",
      "Episode : 7400 | Avg. reward -> 184.61 | Max reward : 200.0 | Epsilon : 0.052005200520052 | Time : 3.3250417709350586\n",
      "Episode : 7500 | Avg. reward -> 189.29 | Max reward : 200.0 | Epsilon : 0.05000500050005002 | Time : 3.3348898887634277\n",
      "Episode : 7600 | Avg. reward -> 192.79 | Max reward : 200.0 | Epsilon : 0.048004800480048015 | Time : 3.2347123622894287\n",
      "Episode : 7700 | Avg. reward -> 171.6 | Max reward : 200.0 | Epsilon : 0.04600460046004601 | Time : 3.335313320159912\n",
      "Episode : 7800 | Avg. reward -> 180.33 | Max reward : 200.0 | Epsilon : 0.044004400440044 | Time : 3.158460855484009\n",
      "Episode : 7900 | Avg. reward -> 174.59 | Max reward : 200.0 | Epsilon : 0.04200420042004202 | Time : 3.3394405841827393\n",
      "Episode : 8000 | Avg. reward -> 182.79 | Max reward : 200.0 | Epsilon : 0.04000400040004001 | Time : 2.9680817127227783\n",
      "Episode : 8100 | Avg. reward -> 190.81 | Max reward : 200.0 | Epsilon : 0.038003800380038005 | Time : 3.3271143436431885\n",
      "Episode : 8200 | Avg. reward -> 190.93 | Max reward : 200.0 | Epsilon : 0.036003600360036 | Time : 3.1923537254333496\n",
      "Episode : 8300 | Avg. reward -> 183.4 | Max reward : 200.0 | Epsilon : 0.03400340034003402 | Time : 3.3308303356170654\n",
      "Episode : 8400 | Avg. reward -> 194.58 | Max reward : 200.0 | Epsilon : 0.03200320032003201 | Time : 3.3239803314208984\n",
      "Episode : 8500 | Avg. reward -> 187.7 | Max reward : 200.0 | Epsilon : 0.030003000300030003 | Time : 3.32407283782959\n",
      "Episode : 8600 | Avg. reward -> 194.39 | Max reward : 200.0 | Epsilon : 0.028002800280027995 | Time : 2.9925637245178223\n",
      "Episode : 8700 | Avg. reward -> 189.77 | Max reward : 200.0 | Epsilon : 0.026002600260026015 | Time : 3.3380448818206787\n",
      "Episode : 8800 | Avg. reward -> 190.47 | Max reward : 200.0 | Epsilon : 0.024002400240024008 | Time : 3.3320367336273193\n",
      "Episode : 8900 | Avg. reward -> 171.29 | Max reward : 200.0 | Epsilon : 0.022002200220022 | Time : 3.326108932495117\n",
      "Episode : 9000 | Avg. reward -> 187.12 | Max reward : 200.0 | Epsilon : 0.02000200020002002 | Time : 3.325362205505371\n",
      "Episode : 9100 | Avg. reward -> 196.83 | Max reward : 200.0 | Epsilon : 0.018001800180018013 | Time : 3.333486557006836\n",
      "Episode : 9200 | Avg. reward -> 200.0 | Max reward : 200.0 | Epsilon : 0.016001600160016005 | Time : 3.3220925331115723\n",
      "Episode : 9300 | Avg. reward -> 200.0 | Max reward : 200.0 | Epsilon : 0.014001400140013998 | Time : 3.3284196853637695\n",
      "Episode : 9400 | Avg. reward -> 198.84 | Max reward : 200.0 | Epsilon : 0.012001200120012018 | Time : 1.9091522693634033\n",
      "Episode : 9500 | Avg. reward -> 184.2 | Max reward : 200.0 | Epsilon : 0.01000100010001001 | Time : 3.33270001411438\n",
      "Episode : 9600 | Avg. reward -> 198.33 | Max reward : 200.0 | Epsilon : 0.008000800080008003 | Time : 3.323636770248413\n",
      "Episode : 9700 | Avg. reward -> 199.2 | Max reward : 200.0 | Epsilon : 0.006000600060005995 | Time : 3.326369285583496\n",
      "Episode : 9800 | Avg. reward -> 200.0 | Max reward : 200.0 | Epsilon : 0.004000400040004015 | Time : 3.3250393867492676\n",
      "Episode : 9900 | Avg. reward -> 200.0 | Max reward : 200.0 | Epsilon : 0.0020002000200020076 | Time : 3.3247132301330566\n",
      "Episode : 10000 | Avg. reward -> 200.0 | Max reward : 200.0 | Epsilon : 0.0 | Time : 3.330103874206543\n"
     ]
    }
   ],
   "source": [
    "# define parameters\n",
    "episodes = 10000\n",
    "gamma = 0.99\n",
    "lr = 0.25\n",
    "timestep = 100\n",
    "start_epsilon = 0.2\n",
    "\n",
    "# run Q learning\n",
    "q_final, data = Q_learning(Q, bins, episodes, gamma, lr, timestep, start_epsilon)"
   ]
  },
  {
   "cell_type": "code",
   "execution_count": 33,
   "metadata": {},
   "outputs": [
    {
     "data": {
      "image/png": "[encoded data removed]",
      "text/plain": [
       "<Figure size 432x288 with 1 Axes>"
      ]
     },
     "metadata": {
      "needs_background": "light"
     },
     "output_type": "display_data"
    }
   ],
   "source": [
    "# plot epsilons\n",
    "ep = [i for i in range(0, episodes + 1, timestep)] \n",
    "plt.plot(ep, data['max'], label = 'Max')\n",
    "plt.plot(ep, data['avg'], label = 'Avg')\n",
    "plt.xlabel('Episode')\n",
    "plt.ylabel('Reward')\n",
    "plt.legend(loc = \"upper left\")\n",
    "plt.show()"
   ]
  },
  {
   "cell_type": "code",
   "execution_count": 34,
   "metadata": {},
   "outputs": [
    {
     "data": {
      "text/plain": [
       "(0.0, 1.0)"
      ]
     },
     "execution_count": 34,
     "metadata": {},
     "output_type": "execute_result"
    },
    {
     "data": {
      "image/png": "[encoded data removed]",
      "text/plain": [
       "<Figure size 432x288 with 1 Axes>"
      ]
     },
     "metadata": {
      "needs_background": "light"
     },
     "output_type": "display_data"
    }
   ],
   "source": [
    "# plot epsilon decay\n",
    "plt.plot(range(len(data['epsilon'])), data['epsilon'], label = 'Epsilon')\n",
    "plt.ylim(0, 1)"
   ]
  },
  {
   "cell_type": "code",
   "execution_count": null,
   "metadata": {},
   "outputs": [],
   "source": []
  }
 ],
 "metadata": {
  "interpreter": {
   "hash": "9ef810184dd1ed1e7e90889c2154f0f529619798a6f354d5d90c8edd2323b55a"
  },
  "kernelspec": {
   "display_name": "Python 3.9.7 ('NC')",
   "language": "python",
   "name": "python3"
  },
  "language_info": {
   "codemirror_mode": {
    "name": "ipython",
    "version": 3
   },
   "file_extension": ".py",
   "mimetype": "text/x-python",
   "name": "python",
   "nbconvert_exporter": "python",
   "pygments_lexer": "ipython3",
   "version": "3.9.7"
  },
  "orig_nbformat": 4
 },
 "nbformat": 4,
 "nbformat_minor": 2
}
