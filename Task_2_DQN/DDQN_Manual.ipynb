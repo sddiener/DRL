{
  "cells": [
    {
      "cell_type": "code",
      "execution_count": 1,
      "metadata": {
        "colab": {
          "base_uri": "https://localhost:8080/"
        },
        "id": "c2hi5yIiLUUm",
        "outputId": "313ce561-d770-4bb5-f5e5-ead092dea75b"
      },
      "outputs": [],
      "source": [
        "# !pip3 install box2d-py\n",
        "# !pip3 install gym[Box_2D]\n",
        "# %pip install ribs[all] gym~=0.17.0 Box2D~=2.3.10 tqdm\n"
      ]
    },
    {
      "cell_type": "code",
      "execution_count": 13,
      "metadata": {
        "id": "i4Dyg0fFLlv1"
      },
      "outputs": [],
      "source": [
        "import gym\n",
        "import numpy as np\n",
        "import random\n",
        "import time \n",
        "import matplotlib.pyplot as plt\n",
        "from collections import namedtuple\n",
        "\n",
        "import torch as T\n",
        "import torch.nn as nn\n",
        "import torch.optim as optim\n",
        "import torch.nn.functional as F\n",
        "\n",
        "# plotting\n",
        "%matplotlib inline\n",
        "import time\n",
        "import pylab as pl\n",
        "from IPython import display\n",
        "import pickle as pkl"
      ]
    },
    {
      "cell_type": "markdown",
      "metadata": {},
      "source": [
        "Similar to the DQN task, the basic structure of the code is used from the lab material as a starting point."
      ]
    },
    {
      "cell_type": "code",
      "execution_count": 3,
      "metadata": {
        "colab": {
          "base_uri": "https://localhost:8080/"
        },
        "id": "0yRzpVL2LZp0",
        "outputId": "2d1f7216-778a-4348-f6e7-9eacf1a90a03"
      },
      "outputs": [
        {
          "name": "stdout",
          "output_type": "stream",
          "text": [
            "Discrete(4)\n",
            "Box([-inf -inf -inf -inf -inf -inf -inf -inf], [inf inf inf inf inf inf inf inf], (8,), float32)\n"
          ]
        }
      ],
      "source": [
        "env = gym.make(\"LunarLander-v2\")\n",
        "print(env.action_space) #[Output: ] Discrete(2)\n",
        "print(env.observation_space) # [Output: ] Box(4,)\n"
      ]
    },
    {
      "cell_type": "code",
      "execution_count": 4,
      "metadata": {
        "id": "-lioBTfFLg3U"
      },
      "outputs": [],
      "source": [
        "Transition = namedtuple('Transition', ('state', 'action', 'next_state', 'reward'))"
      ]
    },
    {
      "cell_type": "code",
      "execution_count": 5,
      "metadata": {
        "id": "8Xnqgkq5L3_7"
      },
      "outputs": [],
      "source": [
        "class ReplayMemory:\n",
        "\n",
        "    def __init__(self, capacity):\n",
        "        self.capacity = capacity\n",
        "        self.memory = []\n",
        "        self.position = 0\n",
        "\n",
        "    def save_transition(self, state, action, next_state, reward):\n",
        "        \"\"\"Saves a transition.\"\"\"\n",
        "        if len(self.memory) < self.capacity:\n",
        "            self.memory.append(None)\n",
        "        \n",
        "        state_tensor = T.from_numpy(state)\n",
        "        \n",
        "        if next_state is None:\n",
        "            state_tensor_next = None            \n",
        "        else:\n",
        "            state_tensor_next = T.from_numpy(next_state)\n",
        "        \n",
        "        action_tensor = T.tensor([action], device=device).unsqueeze(0)\n",
        "\n",
        "        reward = T.tensor([reward], device=device).unsqueeze(0)/10. # reward scaling\n",
        "\n",
        "        self.memory[self.position] = Transition(state_tensor, action_tensor, state_tensor_next, reward)  # save the transition\n",
        "        self.position = (self.position + 1) % self.capacity  # loop around memory\n",
        "\n",
        "    def sample(self, batch_size):\n",
        "        return random.sample(self.memory, batch_size)\n",
        "\n",
        "    def __len__(self):\n",
        "        return len(self.memory)"
      ]
    },
    {
      "cell_type": "code",
      "execution_count": 6,
      "metadata": {
        "id": "lP_u7YpKL-e-"
      },
      "outputs": [],
      "source": [
        "# if gpu is to be used\n",
        "device = T.device(\"cuda\" if T.cuda.is_available() else \"cpu\")\n",
        "\n",
        "class DQN(nn.Module):\n",
        "\n",
        "    def __init__(self, input_size, size_hidden, output_size):\n",
        "        super().__init__()\n",
        "        self.fc1 = nn.Linear(input_size, size_hidden)\n",
        "        self.fc2 = nn.Linear(size_hidden, size_hidden)   \n",
        "        self.fc3 = nn.Linear(size_hidden, size_hidden)  \n",
        "        self.fc4 = nn.Linear(size_hidden, output_size)\n",
        "        \n",
        "        \n",
        "    def forward(self, x):\n",
        "        h1 = F.relu(self.fc1(x.float()))  # self.bn1()\n",
        "        h2 = F.relu(self.fc2(h1))  # self.bn2()\n",
        "        h3 = F.relu(self.fc3(h2))  # self.bn3()\n",
        "        output = self.fc4(h3) # .view(h3.size(0), -1)\n",
        "        return output"
      ]
    },
    {
      "cell_type": "code",
      "execution_count": 7,
      "metadata": {
        "id": "J5-I8mIVMAdc"
      },
      "outputs": [],
      "source": [
        "OBS_SIZE = 8\n",
        "HIDDEN_SIZE = 64\n",
        "ACTION_SIZE = 4\n",
        "\n",
        "Q_network = DQN(OBS_SIZE, HIDDEN_SIZE, ACTION_SIZE).to(device)\n",
        "Q_target = DQN(OBS_SIZE, HIDDEN_SIZE, ACTION_SIZE).to(device)\n",
        "Q_target.load_state_dict(Q_network.state_dict())\n",
        "Q_target.eval()\n",
        "\n",
        "TARGET_UPDATE = 20\n",
        "\n",
        "optimizer = optim.Adam(Q_network.parameters(), lr=0.001)\n",
        "memory = ReplayMemory(100000)"
      ]
    },
    {
      "cell_type": "code",
      "execution_count": 8,
      "metadata": {
        "id": "H9-nybIwMD15"
      },
      "outputs": [],
      "source": [
        "class E_Greedy_Policy():\n",
        "    \n",
        "    def __init__(self, epsilon, decay, min_epsilon):\n",
        "        \n",
        "        self.epsilon = epsilon\n",
        "        self.epsilon_start = epsilon\n",
        "        self.decay = decay\n",
        "        self.epsilon_min = min_epsilon\n",
        "                \n",
        "    def __call__(self, state):\n",
        "                \n",
        "        is_greedy = random.random() > self.epsilon\n",
        "        if is_greedy :\n",
        "            # we select greedy action\n",
        "            with T.no_grad():\n",
        "                Q_network.eval()\n",
        "                index_action = Q_network(state).argmax().detach().cpu().numpy().item()  # state is on cpu instead of GPU!\n",
        "                Q_network.train()\n",
        "\n",
        "        else:\n",
        "            # we sample a random action\n",
        "            index_action = env.action_space.sample() # select random action (4 possible values)\n",
        "        \n",
        "        return index_action\n",
        "                \n",
        "    def update_epsilon(self):\n",
        "        \n",
        "        self.epsilon = self.epsilon*self.decay\n",
        "        if self.epsilon < self.epsilon_min:\n",
        "            self.epsilon = self.epsilon_min\n",
        "        \n",
        "    def reset(self):\n",
        "        self.epsilon = self.epsilon_start"
      ]
    },
    {
      "cell_type": "code",
      "execution_count": 9,
      "metadata": {
        "id": "elxOmAbdMF0E"
      },
      "outputs": [],
      "source": [
        "policy = E_Greedy_Policy(epsilon=0.5, decay=0.997, min_epsilon=0.001)\n",
        "BATCH_SIZE = 64\n",
        "GAMMA = 0.99\n",
        "\n",
        "def optimize_model():\n",
        "    \n",
        "    transitions = memory.sample(BATCH_SIZE)\n",
        "    batch = Transition(*zip(*transitions))\n",
        "\n",
        "    # Compute a mask of non-final states and concatenate the batch elements\n",
        "    non_final_mask = T.tensor(tuple(map(lambda s: s is not None, batch.next_state)), device=device, dtype=T.bool)\n",
        "    non_final_next_states = T.cat([s for s in batch.next_state if s is not None])\n",
        "    non_final_next_states = T.reshape(non_final_next_states, (non_final_mask.sum(), -1)).float().to(device)  # Reshape to (nr. non final, 8)\n",
        "\n",
        "    state_batch = T.cat(batch.state).float().to(device)  # .float().to(device) to move to GPU\n",
        "    state_batch = T.reshape(state_batch, (BATCH_SIZE, -1))  # Reshape to (batch_size, 8)\n",
        "    action_batch = T.cat(batch.action).to(device)\n",
        "    reward_batch = T.cat(batch.reward).float().to(device)\n",
        "    \n",
        "\n",
        "  \n",
        "    # Compute Q values using policy net\n",
        "    Q_values = Q_network(state_batch).gather(1, action_batch)\n",
        "    # Compute next Q values using Q_targets\n",
        "    next_Q_values = T.zeros( BATCH_SIZE, device=device).to(device)\n",
        "\n",
        "\n",
        "    # DDQN Implementation \n",
        "    ddqn_idx = Q_network(non_final_next_states).argmax(dim=1, keepdim=True)\n",
        "\n",
        "    next_Q_values[non_final_mask] = Q_target(non_final_next_states).gather(1, ddqn_idx).detach().flatten()\n",
        "    next_Q_values = next_Q_values.unsqueeze(1)\n",
        "\n",
        "        # Compute targets\n",
        "    target_Q_values = (next_Q_values * GAMMA) + reward_batch\n",
        "\n",
        "    \n",
        "    \n",
        "    # Compute MSE Loss\n",
        "    loss = F.mse_loss(Q_values, target_Q_values)\n",
        "    \n",
        "    # Optimize the model\n",
        "    optimizer.zero_grad()\n",
        "    loss.backward()\n",
        "    \n",
        "    # Trick: gradient clipping\n",
        "    for param in Q_network.parameters():\n",
        "        param.grad.data.clamp_(-1, 1)\n",
        "        \n",
        "    optimizer.step()\n",
        "    \n",
        "    return loss"
      ]
    },
    {
      "cell_type": "code",
      "execution_count": 10,
      "metadata": {
        "colab": {
          "base_uri": "https://localhost:8080/",
          "height": 440
        },
        "id": "j1Yj8kG5ML8Z",
        "outputId": "d7b593e9-ea6f-4fed-9640-4d2fac2ba761"
      },
      "outputs": [
        {
          "name": "stdout",
          "output_type": "stream",
          "text": [
            "Warmup phase...\n",
            "Done with the warmup\n",
            "Episode 0 - reward: -155.330, avg. reward (past 10 ep.): -15.533, eps: 0.498 loss: 0.051 \n",
            "Episode 10 - reward: -151.771, avg. reward (past 10 ep.): -238.568, eps: 0.484 loss: 0.492 \n",
            "Episode 20 - reward: -175.376, avg. reward (past 10 ep.): -170.186, eps: 0.469 loss: 0.048 \n",
            "Episode 30 - reward: -190.880, avg. reward (past 10 ep.): -111.349, eps: 0.456 loss: 0.022 \n",
            "Episode 40 - reward: -65.409, avg. reward (past 10 ep.): -108.922, eps: 0.442 loss: 0.012 \n",
            "Episode 50 - reward: -143.870, avg. reward (past 10 ep.): -108.803, eps: 0.429 loss: 0.321 \n",
            "Episode 60 - reward: 2.813, avg. reward (past 10 ep.): -75.501, eps: 0.416 loss: 0.047 \n",
            "Episode 70 - reward: -44.797, avg. reward (past 10 ep.): -77.490, eps: 0.404 loss: 0.269 \n",
            "Episode 80 - reward: -109.620, avg. reward (past 10 ep.): -51.713, eps: 0.392 loss: 0.014 \n",
            "Episode 90 - reward: -83.411, avg. reward (past 10 ep.): -51.811, eps: 0.380 loss: 0.052 \n",
            "Episode 100 - reward: -26.393, avg. reward (past 10 ep.): -80.674, eps: 0.369 loss: 0.173 \n",
            "Episode 110 - reward: -5.150, avg. reward (past 10 ep.): -66.504, eps: 0.358 loss: 0.043 \n",
            "Episode 120 - reward: -137.015, avg. reward (past 10 ep.): -47.562, eps: 0.348 loss: 0.039 \n",
            "Episode 130 - reward: -252.104, avg. reward (past 10 ep.): -50.507, eps: 0.337 loss: 0.041 \n",
            "Episode 140 - reward: 22.780, avg. reward (past 10 ep.): -42.236, eps: 0.327 loss: 0.024 \n",
            "Episode 150 - reward: 50.616, avg. reward (past 10 ep.): -40.806, eps: 0.318 loss: 0.026 \n",
            "Episode 160 - reward: -51.143, avg. reward (past 10 ep.): 29.165, eps: 0.308 loss: 0.032 \n",
            "Episode 170 - reward: 109.475, avg. reward (past 10 ep.): 17.961, eps: 0.299 loss: 0.036 \n",
            "Episode 180 - reward: -66.694, avg. reward (past 10 ep.): 2.351, eps: 0.290 loss: 0.315 \n",
            "Episode 190 - reward: 105.373, avg. reward (past 10 ep.): 37.321, eps: 0.282 loss: 0.257 \n",
            "Episode 200 - reward: -129.921, avg. reward (past 10 ep.): 8.616, eps: 0.273 loss: 0.041 \n",
            "Episode 210 - reward: -133.799, avg. reward (past 10 ep.): -5.276, eps: 0.265 loss: 0.011 \n",
            "Episode 220 - reward: 69.723, avg. reward (past 10 ep.): 41.850, eps: 0.257 loss: 0.023 \n",
            "Episode 230 - reward: -23.194, avg. reward (past 10 ep.): 26.420, eps: 0.250 loss: 0.028 \n",
            "Episode 240 - reward: -62.552, avg. reward (past 10 ep.): -39.201, eps: 0.242 loss: 0.020 \n",
            "Episode 250 - reward: -75.913, avg. reward (past 10 ep.): -60.935, eps: 0.235 loss: 0.026 \n",
            "Episode 260 - reward: 23.638, avg. reward (past 10 ep.): -6.125, eps: 0.228 loss: 0.063 \n",
            "Episode 270 - reward: 124.832, avg. reward (past 10 ep.): -4.009, eps: 0.221 loss: 0.019 \n",
            "Episode 280 - reward: -153.321, avg. reward (past 10 ep.): -31.123, eps: 0.215 loss: 0.016 \n",
            "Episode 290 - reward: -62.317, avg. reward (past 10 ep.): 45.600, eps: 0.209 loss: 0.012 \n",
            "Episode 300 - reward: -93.508, avg. reward (past 10 ep.): 9.979, eps: 0.202 loss: 0.168 \n",
            "Episode 310 - reward: 221.871, avg. reward (past 10 ep.): 67.172, eps: 0.196 loss: 0.013 \n",
            "Episode 320 - reward: 192.326, avg. reward (past 10 ep.): 31.022, eps: 0.191 loss: 0.409 \n",
            "Episode 330 - reward: 152.329, avg. reward (past 10 ep.): 59.945, eps: 0.185 loss: 0.019 \n",
            "Episode 340 - reward: 153.257, avg. reward (past 10 ep.): 99.866, eps: 0.179 loss: 0.006 \n",
            "Episode 350 - reward: 216.173, avg. reward (past 10 ep.): 146.333, eps: 0.174 loss: 0.011 \n",
            "Episode 360 - reward: 255.281, avg. reward (past 10 ep.): 143.626, eps: 0.169 loss: 0.015 \n",
            "Episode 370 - reward: 77.426, avg. reward (past 10 ep.): 124.956, eps: 0.164 loss: 0.008 \n",
            "Episode 380 - reward: 226.558, avg. reward (past 10 ep.): 107.206, eps: 0.159 loss: 0.008 \n",
            "Episode 390 - reward: 73.748, avg. reward (past 10 ep.): 128.126, eps: 0.154 loss: 0.076 \n",
            "Episode 400 - reward: 68.117, avg. reward (past 10 ep.): 119.396, eps: 0.150 loss: 1.603 \n",
            "Episode 410 - reward: 227.270, avg. reward (past 10 ep.): 205.366, eps: 0.145 loss: 0.018 \n",
            "Episode 420 - reward: 170.944, avg. reward (past 10 ep.): 123.158, eps: 0.141 loss: 0.038 \n",
            "Episode 430 - reward: 158.611, avg. reward (past 10 ep.): 103.286, eps: 0.137 loss: 0.010 \n",
            "Episode 440 - reward: 270.152, avg. reward (past 10 ep.): -16.014, eps: 0.133 loss: 0.015 \n",
            "Episode 450 - reward: 271.133, avg. reward (past 10 ep.): 70.186, eps: 0.129 loss: 0.007 \n",
            "Episode 460 - reward: 253.215, avg. reward (past 10 ep.): 27.328, eps: 0.125 loss: 0.008 \n",
            "Episode 470 - reward: 74.056, avg. reward (past 10 ep.): 66.846, eps: 0.121 loss: 0.015 \n",
            "Episode 480 - reward: 266.898, avg. reward (past 10 ep.): 186.560, eps: 0.118 loss: 0.013 \n",
            "Episode 490 - reward: -120.592, avg. reward (past 10 ep.): 95.445, eps: 0.114 loss: 0.013 \n",
            "Episode 500 - reward: 200.333, avg. reward (past 10 ep.): 189.162, eps: 0.111 loss: 0.011 \n",
            "Episode 510 - reward: 165.983, avg. reward (past 10 ep.): 172.717, eps: 0.108 loss: 0.230 \n",
            "Episode 520 - reward: 193.299, avg. reward (past 10 ep.): 125.470, eps: 0.105 loss: 0.012 \n",
            "Episode 530 - reward: 162.854, avg. reward (past 10 ep.): 159.165, eps: 0.101 loss: 0.012 \n",
            "Episode 540 - reward: 213.364, avg. reward (past 10 ep.): 89.229, eps: 0.098 loss: 0.041 \n",
            "Episode 550 - reward: 240.763, avg. reward (past 10 ep.): 58.292, eps: 0.095 loss: 0.024 \n",
            "Episode 560 - reward: 235.071, avg. reward (past 10 ep.): 146.616, eps: 0.093 loss: 0.231 \n",
            "Episode 570 - reward: -63.903, avg. reward (past 10 ep.): 187.104, eps: 0.090 loss: 0.018 \n",
            "Episode 580 - reward: 272.378, avg. reward (past 10 ep.): 102.107, eps: 0.087 loss: 0.037 \n",
            "Episode 590 - reward: 232.960, avg. reward (past 10 ep.): 60.653, eps: 0.085 loss: 0.021 \n",
            "Episode 600 - reward: 305.731, avg. reward (past 10 ep.): 108.017, eps: 0.082 loss: 1.426 \n",
            "Episode 610 - reward: -28.406, avg. reward (past 10 ep.): 42.797, eps: 0.080 loss: 0.066 \n",
            "Episode 620 - reward: -47.772, avg. reward (past 10 ep.): 46.404, eps: 0.077 loss: 0.015 \n",
            "Episode 630 - reward: -158.443, avg. reward (past 10 ep.): 146.372, eps: 0.075 loss: 1.369 \n",
            "Episode 640 - reward: -67.206, avg. reward (past 10 ep.): 142.196, eps: 0.073 loss: 0.030 \n",
            "Episode 650 - reward: 239.510, avg. reward (past 10 ep.): 153.370, eps: 0.071 loss: 0.065 \n",
            "Episode 660 - reward: 146.612, avg. reward (past 10 ep.): 163.240, eps: 0.069 loss: 1.492 \n",
            "Episode 670 - reward: 250.303, avg. reward (past 10 ep.): 105.410, eps: 0.067 loss: 0.026 \n",
            "Episode 680 - reward: -101.124, avg. reward (past 10 ep.): 27.091, eps: 0.065 loss: 0.324 \n",
            "Episode 690 - reward: -58.834, avg. reward (past 10 ep.): 123.590, eps: 0.063 loss: 0.046 \n",
            "Episode 700 - reward: 257.256, avg. reward (past 10 ep.): 175.160, eps: 0.061 loss: 0.041 \n",
            "Episode 710 - reward: 251.655, avg. reward (past 10 ep.): 101.512, eps: 0.059 loss: 0.043 \n",
            "Episode 720 - reward: -170.596, avg. reward (past 10 ep.): 85.179, eps: 0.057 loss: 0.022 \n",
            "Episode 730 - reward: 270.355, avg. reward (past 10 ep.): 167.744, eps: 0.056 loss: 0.018 \n",
            "Episode 740 - reward: 158.699, avg. reward (past 10 ep.): 104.785, eps: 0.054 loss: 1.024 \n",
            "Episode 750 - reward: -46.185, avg. reward (past 10 ep.): 130.493, eps: 0.052 loss: 0.150 \n",
            "Episode 760 - reward: 208.169, avg. reward (past 10 ep.): 156.430, eps: 0.051 loss: 0.429 \n",
            "Episode 770 - reward: 251.395, avg. reward (past 10 ep.): 205.794, eps: 0.049 loss: 0.015 \n",
            "Episode 780 - reward: 249.963, avg. reward (past 10 ep.): 140.513, eps: 0.048 loss: 0.024 \n",
            "Episode 790 - reward: 245.281, avg. reward (past 10 ep.): 101.987, eps: 0.046 loss: 0.083 \n",
            "Episode 800 - reward: 214.327, avg. reward (past 10 ep.): 86.433, eps: 0.045 loss: 0.011 \n",
            "Episode 810 - reward: -98.867, avg. reward (past 10 ep.): 129.353, eps: 0.044 loss: 0.019 \n",
            "Episode 820 - reward: 266.641, avg. reward (past 10 ep.): 126.236, eps: 0.042 loss: 1.476 \n",
            "Episode 830 - reward: 214.324, avg. reward (past 10 ep.): 153.651, eps: 0.041 loss: 0.027 \n",
            "Episode 840 - reward: 214.622, avg. reward (past 10 ep.): 42.531, eps: 0.040 loss: 0.094 \n",
            "Episode 850 - reward: 257.319, avg. reward (past 10 ep.): 88.174, eps: 0.039 loss: 0.027 \n",
            "Episode 860 - reward: -52.659, avg. reward (past 10 ep.): 71.985, eps: 0.038 loss: 0.014 \n",
            "Episode 870 - reward: 8.192, avg. reward (past 10 ep.): 77.868, eps: 0.037 loss: 0.034 \n",
            "Episode 880 - reward: 216.376, avg. reward (past 10 ep.): 128.678, eps: 0.035 loss: 0.016 \n",
            "Episode 890 - reward: -72.737, avg. reward (past 10 ep.): 16.643, eps: 0.034 loss: 1.258 \n",
            "Episode 900 - reward: 212.847, avg. reward (past 10 ep.): 138.902, eps: 0.033 loss: 0.044 \n",
            "Episode 910 - reward: 250.799, avg. reward (past 10 ep.): 174.327, eps: 0.032 loss: 0.078 \n",
            "Episode 920 - reward: -91.467, avg. reward (past 10 ep.): 194.285, eps: 0.031 loss: 0.045 \n",
            "Episode 930 - reward: 5.115, avg. reward (past 10 ep.): 162.931, eps: 0.030 loss: 0.045 \n",
            "Episode 940 - reward: 271.509, avg. reward (past 10 ep.): 204.570, eps: 0.030 loss: 0.089 \n",
            "Episode 950 - reward: 261.078, avg. reward (past 10 ep.): 220.966, eps: 0.029 loss: 0.052 \n",
            "Episode 960 - reward: 231.510, avg. reward (past 10 ep.): 103.656, eps: 0.028 loss: 0.025 \n",
            "Episode 970 - reward: 255.546, avg. reward (past 10 ep.): 228.361, eps: 0.027 loss: 0.021 \n",
            "Episode 980 - reward: 215.008, avg. reward (past 10 ep.): 138.336, eps: 0.026 loss: 0.014 \n",
            "Episode 990 - reward: 197.804, avg. reward (past 10 ep.): 203.455, eps: 0.025 loss: 1.130 \n",
            "Episode 1000 - reward: 41.006, avg. reward (past 10 ep.): 101.467, eps: 0.025 loss: 0.103 \n",
            "Episode 1010 - reward: 221.047, avg. reward (past 10 ep.): 202.702, eps: 0.024 loss: 0.021 \n",
            "Episode 1020 - reward: 181.003, avg. reward (past 10 ep.): 142.640, eps: 0.023 loss: 0.052 \n",
            "Episode 1030 - reward: 199.120, avg. reward (past 10 ep.): 142.925, eps: 0.023 loss: 0.088 \n",
            "Episode 1040 - reward: -222.962, avg. reward (past 10 ep.): 127.432, eps: 0.022 loss: 0.435 \n",
            "Episode 1050 - reward: 262.503, avg. reward (past 10 ep.): 35.055, eps: 0.021 loss: 0.042 \n",
            "Episode 1060 - reward: 248.388, avg. reward (past 10 ep.): 203.577, eps: 0.021 loss: 0.030 \n",
            "Episode 1070 - reward: -478.658, avg. reward (past 10 ep.): 15.903, eps: 0.020 loss: 0.074 \n",
            "Episode 1080 - reward: -253.423, avg. reward (past 10 ep.): 14.632, eps: 0.019 loss: 0.156 \n",
            "Episode 1090 - reward: 34.428, avg. reward (past 10 ep.): 128.730, eps: 0.019 loss: 0.610 \n",
            "Episode 1100 - reward: 213.022, avg. reward (past 10 ep.): 190.429, eps: 0.018 loss: 0.586 \n",
            "Episode 1110 - reward: 208.942, avg. reward (past 10 ep.): 144.535, eps: 0.018 loss: 0.051 \n",
            "Episode 1120 - reward: 208.845, avg. reward (past 10 ep.): 164.621, eps: 0.017 loss: 0.017 \n",
            "Episode 1130 - reward: 16.845, avg. reward (past 10 ep.): 165.813, eps: 0.017 loss: 0.035 \n",
            "Episode 1140 - reward: 202.254, avg. reward (past 10 ep.): 144.689, eps: 0.016 loss: 0.013 \n",
            "Episode 1150 - reward: 240.471, avg. reward (past 10 ep.): 144.167, eps: 0.016 loss: 1.062 \n",
            "Episode 1160 - reward: 208.682, avg. reward (past 10 ep.): 119.667, eps: 0.015 loss: 0.053 \n",
            "Episode 1170 - reward: -64.753, avg. reward (past 10 ep.): 65.936, eps: 0.015 loss: 0.085 \n",
            "Episode 1180 - reward: 158.344, avg. reward (past 10 ep.): 188.712, eps: 0.014 loss: 0.062 \n",
            "Episode 1190 - reward: 253.905, avg. reward (past 10 ep.): 53.033, eps: 0.014 loss: 0.023 \n",
            "Episode 1200 - reward: 298.503, avg. reward (past 10 ep.): 137.299, eps: 0.014 loss: 0.070 \n",
            "Episode 1210 - reward: 243.118, avg. reward (past 10 ep.): 171.304, eps: 0.013 loss: 0.022 \n",
            "Episode 1220 - reward: -81.000, avg. reward (past 10 ep.): 146.219, eps: 0.013 loss: 0.037 \n",
            "Episode 1230 - reward: 24.719, avg. reward (past 10 ep.): 172.615, eps: 0.012 loss: 0.055 \n",
            "Episode 1240 - reward: 195.715, avg. reward (past 10 ep.): 175.485, eps: 0.012 loss: 0.208 \n",
            "Episode 1250 - reward: 220.061, avg. reward (past 10 ep.): 204.958, eps: 0.012 loss: 0.066 \n",
            "Episode 1260 - reward: 245.346, avg. reward (past 10 ep.): 145.551, eps: 0.011 loss: 0.073 \n",
            "Episode 1270 - reward: 239.945, avg. reward (past 10 ep.): 205.611, eps: 0.011 loss: 0.020 \n",
            "Episode 1280 - reward: -70.593, avg. reward (past 10 ep.): 213.466, eps: 0.011 loss: 0.100 \n",
            "Episode 1290 - reward: 242.312, avg. reward (past 10 ep.): 151.989, eps: 0.010 loss: 0.017 \n",
            "Episode 1300 - reward: 309.327, avg. reward (past 10 ep.): 231.220, eps: 0.010 loss: 0.032 \n",
            "Episode 1310 - reward: 142.279, avg. reward (past 10 ep.): 188.977, eps: 0.010 loss: 0.049 \n",
            "Episode 1320 - reward: 240.508, avg. reward (past 10 ep.): 202.675, eps: 0.009 loss: 0.041 \n",
            "Episode 1330 - reward: 20.675, avg. reward (past 10 ep.): 175.181, eps: 0.009 loss: 0.036 \n",
            "Episode 1340 - reward: 240.637, avg. reward (past 10 ep.): 162.839, eps: 0.009 loss: 0.039 \n",
            "Episode 1350 - reward: 276.519, avg. reward (past 10 ep.): 255.135, eps: 0.009 loss: 0.038 \n",
            "Episode 1360 - reward: 11.808, avg. reward (past 10 ep.): 180.037, eps: 0.008 loss: 0.025 \n",
            "Episode 1370 - reward: 14.246, avg. reward (past 10 ep.): 190.442, eps: 0.008 loss: 0.050 \n",
            "Episode 1380 - reward: 292.764, avg. reward (past 10 ep.): 230.105, eps: 0.008 loss: 0.051 \n",
            "Episode 1390 - reward: 242.075, avg. reward (past 10 ep.): 199.370, eps: 0.008 loss: 0.035 \n",
            "Episode 1400 - reward: 267.484, avg. reward (past 10 ep.): 216.209, eps: 0.007 loss: 0.028 \n",
            "Episode 1410 - reward: 216.232, avg. reward (past 10 ep.): 228.750, eps: 0.007 loss: 0.075 \n",
            "Episode 1420 - reward: 247.403, avg. reward (past 10 ep.): 179.886, eps: 0.007 loss: 0.745 \n",
            "Episode 1430 - reward: 285.555, avg. reward (past 10 ep.): 253.539, eps: 0.007 loss: 0.042 \n",
            "Episode 1440 - reward: 220.796, avg. reward (past 10 ep.): 184.881, eps: 0.007 loss: 0.149 \n",
            "Episode 1450 - reward: 253.193, avg. reward (past 10 ep.): 224.541, eps: 0.006 loss: 0.220 \n",
            "Episode 1460 - reward: 238.904, avg. reward (past 10 ep.): 193.817, eps: 0.006 loss: 0.059 \n",
            "Episode 1470 - reward: 242.344, avg. reward (past 10 ep.): 152.870, eps: 0.006 loss: 0.025 \n",
            "Episode 1480 - reward: 279.387, avg. reward (past 10 ep.): 169.934, eps: 0.006 loss: 0.043 \n",
            "Episode 1490 - reward: 137.117, avg. reward (past 10 ep.): 238.848, eps: 0.006 loss: 0.043 \n",
            "Complete\n"
          ]
        }
      ],
      "source": [
        "env = gym.make(\"LunarLander-v2\")  # create environment\n",
        "\n",
        "num_episodes = 1500\n",
        "policy.reset()\n",
        "rewards_history = []\n",
        "\n",
        "# Warmup phase!\n",
        "memory_filled = False\n",
        "print(\"Warmup phase...\")\n",
        "while not memory_filled:\n",
        "    \n",
        "    state = env.reset()  # 8 states: coordinates of the lander (x,y), linear velocities (x,y), angle, angular velocity, 2 bools if each leg is touches ground.\n",
        "    done = False\n",
        "    total_reward = 0\n",
        "    \n",
        "    while not done:  # for each episode\n",
        "        # Get action and act in the world\n",
        "        state_tensor = T.from_numpy(state).float().to(device)\n",
        "        action = policy(state_tensor)  # <<--- choose greedy (choose index of highest q-value predicted by network) or exploration\n",
        "        next_state, reward, done, __ = env.step(action)\n",
        "        total_reward += float(reward)\n",
        "        \n",
        "\n",
        "               # Observe new state\n",
        "        if done:\n",
        "            next_state = None\n",
        "\n",
        "        # Store the transition in memory\n",
        "        memory.save_transition(state, action, next_state, float(reward))\n",
        "        state = next_state\n",
        "\n",
        "    memory_filled = memory.capacity == len(memory)\n",
        "\n",
        "print('Done with the warmup')\n",
        "    \n",
        "for i_episode in range(num_episodes):\n",
        "    # New dungeon at every run\n",
        "    state = env.reset()\n",
        "    done = False\n",
        "    total_reward = 0\n",
        "    \n",
        "    \n",
        "    while not done:  # iterate through states\n",
        "        \n",
        "        # Get action and act in the world\n",
        "        state_tensor = T.from_numpy(state).float().to(device)  # <<--- convert state to tensor and move to GPU\n",
        "        \n",
        "        action = policy(state_tensor)   # choose greedy (index of q-value predictions) or exploration\n",
        "        next_state, reward, done, __ = env.step(action)\n",
        "        total_reward += float(reward)\n",
        "\n",
        "\n",
        "                # Observe new state\n",
        "        if done:\n",
        "            next_state = None\n",
        "        memory.save_transition(state, action, next_state, float(reward))  # Store the transition in memory\n",
        "        state = next_state  # Move to the next state\n",
        "\n",
        "        # Perform one step of the optimization\n",
        "        #started_training = True\n",
        "        loss = optimize_model()\n",
        "\n",
        "    policy.update_epsilon()\n",
        "    rewards_history.append( float(total_reward) )\n",
        "\n",
        "    \n",
        "    # Update the target network, copying all weights and biases in DQN\n",
        "    if i_episode % TARGET_UPDATE == 0:\n",
        "        Q_target.load_state_dict(Q_network.state_dict())\n",
        "    \n",
        "    if i_episode % 10 == 0:\n",
        "        avg_rewards_10 = sum(rewards_history[-10:])/10\n",
        "\n",
        "        print('Episode {} - reward: {:.3f}, avg. reward (past 10 ep.): {:.3f}, eps: {:.3f} loss: {:.3f} '.format(\n",
        "            i_episode, total_reward, avg_rewards_10, policy.epsilon, loss))   \n",
        "    \n",
        "print('Complete')"
      ]
    },
    {
      "cell_type": "code",
      "execution_count": 11,
      "metadata": {
        "id": "dq8CeLiuMVHh"
      },
      "outputs": [
        {
          "data": {
            "image/png": "[encoded data removed]",
            "text/plain": [
              "<Figure size 432x288 with 1 Axes>"
            ]
          },
          "metadata": {
            "needs_background": "light"
          },
          "output_type": "display_data"
        }
      ],
      "source": [
        "plt.plot(rewards_history, '-')\n",
        "# add 100 episode moving average\n",
        "avg_rewards_history = np.convolve(rewards_history, np.ones((100,))/100, mode='valid')\n",
        "plt.plot(avg_rewards_history, '-')\n",
        "plt.title('Rewards')\n",
        "plt.show()"
      ]
    },
    {
      "cell_type": "code",
      "execution_count": 14,
      "metadata": {
        "colab": {
          "base_uri": "https://localhost:8080/",
          "height": 172
        },
        "id": "0R-3_LoeNIWi",
        "outputId": "ff3f5f9f-fdda-49f5-9afd-016d86889934"
      },
      "outputs": [],
      "source": [
        "# save rewards history\n",
        "with open('rewards_history_ddqn.pkl', 'wb') as f:\n",
        "    pkl.dump(rewards_history, f)"
      ]
    },
    {
      "cell_type": "code",
      "execution_count": null,
      "metadata": {
        "id": "FFrQMresuYsm"
      },
      "outputs": [],
      "source": []
    }
  ],
  "metadata": {
    "accelerator": "TPU",
    "colab": {
      "machine_shape": "hm",
      "name": "DDQN_Manual.ipynb",
      "provenance": []
    },
    "kernelspec": {
      "display_name": "Python 3",
      "name": "python3"
    },
    "language_info": {
      "codemirror_mode": {
        "name": "ipython",
        "version": 3
      },
      "file_extension": ".py",
      "mimetype": "text/x-python",
      "name": "python",
      "nbconvert_exporter": "python",
      "pygments_lexer": "ipython3",
      "version": "3.9.7"
    }
  },
  "nbformat": 4,
  "nbformat_minor": 0
}
