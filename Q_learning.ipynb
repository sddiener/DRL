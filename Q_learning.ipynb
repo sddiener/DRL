{
 "cells": [
  {
   "cell_type": "code",
   "execution_count": 1,
   "metadata": {},
   "outputs": [],
   "source": [
    "import gym\n",
    "import numpy as np\n",
    "import time \n",
    "import matplotlib.pyplot as plt"
   ]
  },
  {
   "cell_type": "code",
   "execution_count": 2,
   "metadata": {},
   "outputs": [
    {
     "name": "stdout",
     "output_type": "stream",
     "text": [
      "Discrete(2)\n",
      "Box([-4.8000002e+00 -3.4028235e+38 -4.1887903e-01 -3.4028235e+38], [4.8000002e+00 3.4028235e+38 4.1887903e-01 3.4028235e+38], (4,), float32)\n"
     ]
    }
   ],
   "source": [
    "env = gym.make('CartPole-v0')\n",
    "print(env.action_space) #[Output: ] Discrete(2)\n",
    "print(env.observation_space) # [Output: ] Box(4,)"
   ]
  },
  {
   "cell_type": "code",
   "execution_count": 3,
   "metadata": {},
   "outputs": [
    {
     "name": "stdout",
     "output_type": "stream",
     "text": [
      "step 0 : 0 [-0.0330686  -0.212516   -0.00590192  0.26180434] 1.0 False {}\n",
      "step 1 : 1 [-0.03731892 -0.0173103  -0.00066583 -0.03273427] 1.0 False {}\n",
      "step 2 : 1 [-0.03766512  0.1778212  -0.00132052 -0.3256272 ] 1.0 False {}\n",
      "step 3 : 1 [-0.0341087   0.37296194 -0.00783306 -0.61872625] 1.0 False {}\n",
      "step 4 : 0 [-0.02664946  0.17795026 -0.02020759 -0.32852063] 1.0 False {}\n",
      "step 5 : 0 [-0.02309046 -0.01687827 -0.026778   -0.04227813] 1.0 False {}\n",
      "step 6 : 1 [-0.02342802  0.17861722 -0.02762356 -0.34328803] 1.0 False {}\n",
      "step 7 : 0 [-0.01985568 -0.01610107 -0.03448932 -0.05944232] 1.0 False {}\n",
      "step 8 : 0 [-0.0201777  -0.21071197 -0.03567817  0.22216259] 1.0 False {}\n",
      "step 9 : 0 [-0.02439194 -0.40530628 -0.03123492  0.50338113] 1.0 False {}\n"
     ]
    }
   ],
   "source": [
    "# returns an initial observation\n",
    "env.reset()\n",
    "\n",
    "for i in range(10):\n",
    "\n",
    "  # env.action_space.sample() produces either 0 (left) or 1 (right).\n",
    "  action = env.action_space.sample()\n",
    "  observation, reward, done, info = env.step(action)\n",
    "\n",
    "  print(\"step\", i, \":\", action, observation, reward, done, info)\n",
    "  if done:\n",
    "    print(\"Finished after {} timesteps\".format(i+1))\n",
    "    break\n",
    "\n",
    "env.close()"
   ]
  },
  {
   "cell_type": "code",
   "execution_count": 4,
   "metadata": {},
   "outputs": [],
   "source": [
    "def Qtable(state_space,action_space,bin_size = 30):\n",
    "    \n",
    "    bins = [np.linspace(-4.8,4.8,bin_size),\n",
    "            np.linspace(-4,4,bin_size),\n",
    "            np.linspace(-0.418,0.418,bin_size),\n",
    "            np.linspace(-4,4,bin_size)]\n",
    "    \n",
    "    q_table = np.zeros(([bin_size] * state_space + [action_space]))\n",
    "    #q_table = np.random.uniform(low=-1,high=1,size=([bin_size] * state_space + [action_space]))\n",
    "    \n",
    "    return q_table, bins"
   ]
  },
  {
   "cell_type": "code",
   "execution_count": 5,
   "metadata": {},
   "outputs": [
    {
     "data": {
      "text/plain": [
       "(30, 30, 30, 30, 2)"
      ]
     },
     "execution_count": 5,
     "metadata": {},
     "output_type": "execute_result"
    }
   ],
   "source": [
    "bin_size = 30\n",
    "Q, bins = Qtable(4,2,bin_size)\n",
    "Q.shape"
   ]
  },
  {
   "cell_type": "code",
   "execution_count": 6,
   "metadata": {},
   "outputs": [],
   "source": [
    "def Discrete(state, bins):\n",
    "    index = []\n",
    "    for i in range(len(state)): index.append(np.digitize(state[i],bins[i]) - 1)\n",
    "    return tuple(index)"
   ]
  },
  {
   "cell_type": "code",
   "execution_count": 7,
   "metadata": {},
   "outputs": [
    {
     "name": "stdout",
     "output_type": "stream",
     "text": [
      "[-0.02698686  0.03440372  0.00073141 -0.03226525]\n",
      "(14, 14, 14, 14)\n"
     ]
    }
   ],
   "source": [
    "test_state = env.reset()\n",
    "test_state_discrete = Discrete(test_state, bins)\n",
    "print(test_state)\n",
    "print(test_state_discrete)"
   ]
  },
  {
   "cell_type": "code",
   "execution_count": 8,
   "metadata": {},
   "outputs": [],
   "source": [
    "def Q_learning(q_table, bins, episodes, gamma, lr, timestep, start_epsilon):\n",
    "    \n",
    "    runs = [0]  # list of cumulative reward per episode\n",
    "    data = {'max' : [0], 'avg' : [0], 'epsilon' : [start_epsilon]}\n",
    "    rewards = 0\n",
    "    steps = 0\n",
    "    solved = False\n",
    "\n",
    "    for episode in range(1,episodes+1):\n",
    "        ep_start = time.time()\n",
    "        steps += 1 \n",
    "\n",
    "        epsilon_list = np.linspace(start_epsilon, 0, episodes)  # make epsilon decay to 0 linearly\n",
    "        epsilon = epsilon_list[episode-1]\n",
    "\n",
    "        current_state = Discrete(env.reset(),bins)\n",
    "\n",
    "        score = 0\n",
    "        done = False\n",
    "        while not done:\n",
    "            if episode % timestep==0: env.render()\n",
    "            if np.random.uniform(0,1) < epsilon:  # if random number is less than epsilon, choose random action\n",
    "                    action = env.action_space.sample()\n",
    "            else: # otherwise choose max reward action\n",
    "                action = np.argmax(q_table[current_state])\n",
    "\n",
    "            observation, reward, done, __ = env.step(action)  # take chosen action\n",
    "            new_state = Discrete(observation,bins)\n",
    "            score += reward  #???????\n",
    "            \n",
    "            if not done:\n",
    "                max_future_q = np.max(q_table[new_state])  # best estimated reward at current state\n",
    "                current_q = q_table[current_state+(action,)]\n",
    "                new_q = (1-lr)*current_q + lr*(reward + gamma*max_future_q)\n",
    "                q_table[current_state+(action,)] = new_q\n",
    "\n",
    "            current_state = new_state\n",
    "            \n",
    "        # End of the loop update\n",
    "        else:\n",
    "            rewards += score\n",
    "            runs.append(score)\n",
    "\n",
    "            if score > 195 and steps >= 100 and solved == False:\n",
    "                solved = True\n",
    "                print('First solved in episode : {} in time {}'.format(episode, (time.time()-ep_start)))\n",
    "        \n",
    "        # Timestep value update\n",
    "        if episode % timestep == 0:\n",
    "            print('Episode : {} | Avg. reward -> {} | Max reward : {} | Epsilon : {} | Time : {}'.format(episode, rewards/timestep, max(runs), epsilon, time.time() - ep_start))\n",
    "            data['max'].append(max(runs))\n",
    "            data['avg'].append(rewards/timestep)\n",
    "            data['epsilon'].append(epsilon)\n",
    "\n",
    "            rewards, runs= 0, [0]\n",
    "\n",
    "    env.close()\n",
    "\n",
    "    return q_table, data"
   ]
  },
  {
   "cell_type": "code",
   "execution_count": 9,
   "metadata": {},
   "outputs": [
    {
     "name": "stdout",
     "output_type": "stream",
     "text": [
      "Episode : 100 | Avg. reward -> 29.12 | Max reward : 80.0 | Epsilon : 0.2702702702702703 | Time : 0.5346150398254395\n",
      "Episode : 200 | Avg. reward -> 36.61 | Max reward : 75.0 | Epsilon : 0.24024024024024024 | Time : 0.5759925842285156\n",
      "Episode : 300 | Avg. reward -> 36.4 | Max reward : 88.0 | Epsilon : 0.2102102102102102 | Time : 1.0065231323242188\n",
      "Episode : 400 | Avg. reward -> 43.98 | Max reward : 120.0 | Epsilon : 0.18018018018018017 | Time : 1.64556884765625\n",
      "Episode : 500 | Avg. reward -> 58.84 | Max reward : 195.0 | Epsilon : 0.15015015015015015 | Time : 1.3718948364257812\n",
      "Episode : 600 | Avg. reward -> 56.29 | Max reward : 159.0 | Epsilon : 0.1201201201201201 | Time : 0.7372612953186035\n",
      "First solved in episode : 639 in time 0.012997150421142578\n",
      "Episode : 700 | Avg. reward -> 64.68 | Max reward : 200.0 | Epsilon : 0.09009009009009009 | Time : 0.7111372947692871\n",
      "Episode : 800 | Avg. reward -> 59.65 | Max reward : 173.0 | Epsilon : 0.060060060060060066 | Time : 0.6651220321655273\n",
      "Episode : 900 | Avg. reward -> 64.8 | Max reward : 131.0 | Epsilon : 0.03003003003003002 | Time : 1.0953724384307861\n",
      "Episode : 1000 | Avg. reward -> 69.66 | Max reward : 184.0 | Epsilon : 0.0 | Time : 0.385120153427124\n"
     ]
    }
   ],
   "source": [
    "# define parameters\n",
    "episodes = 1000\n",
    "gamma = 0.9\n",
    "lr = 0.1\n",
    "timestep = 100\n",
    "start_epsilon = 0.3\n",
    "\n",
    "# run Q learning\n",
    "q_final, data = Q_learning(Q, bins, episodes, gamma, lr, timestep, start_epsilon)"
   ]
  },
  {
   "cell_type": "code",
   "execution_count": 12,
   "metadata": {},
   "outputs": [
    {
     "data": {
      "image/png": "[encoded data removed]",
      "text/plain": [
       "<Figure size 432x288 with 1 Axes>"
      ]
     },
     "metadata": {
      "needs_background": "light"
     },
     "output_type": "display_data"
    }
   ],
   "source": [
    "# plot epsilons\n",
    "ep = [i for i in range(0, episodes + 1, timestep)] \n",
    "plt.plot(ep, data['max'], label = 'Max')\n",
    "plt.plot(ep, data['avg'], label = 'Avg')\n",
    "plt.xlabel('Episode')\n",
    "plt.ylabel('Reward')\n",
    "plt.legend(loc = \"upper left\")\n",
    "plt.show()"
   ]
  },
  {
   "cell_type": "code",
   "execution_count": 17,
   "metadata": {},
   "outputs": [
    {
     "data": {
      "text/plain": [
       "(0.0, 1.0)"
      ]
     },
     "execution_count": 17,
     "metadata": {},
     "output_type": "execute_result"
    },
    {
     "data": {
      "image/png": "[encoded data removed]",
      "text/plain": [
       "<Figure size 432x288 with 1 Axes>"
      ]
     },
     "metadata": {
      "needs_background": "light"
     },
     "output_type": "display_data"
    }
   ],
   "source": [
    "# plot epsilon decay\n",
    "plt.plot(range(len(data['epsilon'])), data['epsilon'], label = 'Epsilon')\n",
    "plt.ylim(0, 1)"
   ]
  },
  {
   "cell_type": "code",
   "execution_count": null,
   "metadata": {},
   "outputs": [],
   "source": []
  }
 ],
 "metadata": {
  "interpreter": {
   "hash": "9ef810184dd1ed1e7e90889c2154f0f529619798a6f354d5d90c8edd2323b55a"
  },
  "kernelspec": {
   "display_name": "Python 3.9.7 ('NC')",
   "language": "python",
   "name": "python3"
  },
  "language_info": {
   "codemirror_mode": {
    "name": "ipython",
    "version": 3
   },
   "file_extension": ".py",
   "mimetype": "text/x-python",
   "name": "python",
   "nbconvert_exporter": "python",
   "pygments_lexer": "ipython3",
   "version": "3.9.7"
  },
  "orig_nbformat": 4
 },
 "nbformat": 4,
 "nbformat_minor": 2
}
