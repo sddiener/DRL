{
 "cells": [
  {
   "cell_type": "code",
   "execution_count": 8,
   "metadata": {},
   "outputs": [],
   "source": [
    "import gym\n",
    "import numpy as np\n",
    "import random\n",
    "import time \n",
    "import matplotlib.pyplot as plt\n",
    "from collections import namedtuple\n",
    "\n",
    "import torch as T\n",
    "import torch.nn as nn\n",
    "import torch.optim as optim\n",
    "import torch.nn.functional as F\n",
    "\n",
    "# plotting\n",
    "%matplotlib inline\n",
    "import time\n",
    "import pylab as pl\n",
    "from IPython import display\n",
    "import pickle as pkl\n"
   ]
  },
  {
   "cell_type": "code",
   "execution_count": 9,
   "metadata": {},
   "outputs": [
    {
     "name": "stdout",
     "output_type": "stream",
     "text": [
      "Discrete(4)\n",
      "Box([-inf -inf -inf -inf -inf -inf -inf -inf], [inf inf inf inf inf inf inf inf], (8,), float32)\n"
     ]
    }
   ],
   "source": [
    "env = gym.make(\"LunarLander-v2\")\n",
    "print(env.action_space) #[Output: ] Discrete(2)\n",
    "print(env.observation_space) # [Output: ] Box(4,)\n"
   ]
  },
  {
   "cell_type": "markdown",
   "metadata": {},
   "source": [
    "# 1 - Replay Buffer for Experience replay"
   ]
  },
  {
   "cell_type": "code",
   "execution_count": 10,
   "metadata": {},
   "outputs": [],
   "source": [
    "Transition = namedtuple('Transition', ('state', 'action', 'next_state', 'reward'))"
   ]
  },
  {
   "cell_type": "code",
   "execution_count": 11,
   "metadata": {},
   "outputs": [],
   "source": [
    "class ReplayMemory:\n",
    "    def __init__(self, capacity):\n",
    "        self.capacity = capacity\n",
    "        self.memory = []\n",
    "        self.position = 0\n",
    "\n",
    "    def save_transition(self, state, action, next_state, reward):\n",
    "        \"\"\"Saves a transition.\"\"\"\n",
    "        if len(self.memory) < self.capacity:\n",
    "            self.memory.append(None)\n",
    "        \n",
    "        state_tensor = T.from_numpy(state)\n",
    "        \n",
    "        if next_state is None:\n",
    "            state_tensor_next = None            \n",
    "        else:\n",
    "            state_tensor_next = T.from_numpy(next_state)\n",
    "        \n",
    "        action_tensor = T.tensor([action], device=device).unsqueeze(0)\n",
    "\n",
    "        reward = T.tensor([reward], device=device).unsqueeze(0)/10. # reward scaling\n",
    "\n",
    "        self.memory[self.position] = Transition(state_tensor, action_tensor, state_tensor_next, reward)  # save the transition\n",
    "        self.position = (self.position + 1) % self.capacity  # loop around memory\n",
    "\n",
    "    def sample(self, batch_size):\n",
    "        return random.sample(self.memory, batch_size)\n",
    "\n",
    "    def __len__(self):\n",
    "        return len(self.memory)"
   ]
  },
  {
   "cell_type": "markdown",
   "metadata": {},
   "source": [
    "# 2 - Q-network"
   ]
  },
  {
   "cell_type": "code",
   "execution_count": 12,
   "metadata": {},
   "outputs": [],
   "source": [
    "# if gpu is to be used\n",
    "device = T.device(\"cuda\" if T.cuda.is_available() else \"cpu\")\n",
    "\n",
    "class DQN(nn.Module):\n",
    "\n",
    "    def __init__(self, input_size, size_hidden, output_size):\n",
    "        super().__init__()\n",
    "        self.fc1 = nn.Linear(input_size, size_hidden)\n",
    "        self.fc2 = nn.Linear(size_hidden, size_hidden)   \n",
    "        self.fc3 = nn.Linear(size_hidden, size_hidden)  \n",
    "        self.fc4 = nn.Linear(size_hidden, output_size)\n",
    "        \n",
    "        \n",
    "    def forward(self, x):\n",
    "        h1 = F.relu(self.fc1(x.float()))  # self.bn1()\n",
    "        h2 = F.relu(self.fc2(h1))  # self.bn2()\n",
    "        h3 = F.relu(self.fc3(h2))  # self.bn3()\n",
    "        output = self.fc4(h3) # .view(h3.size(0), -1)\n",
    "        return output\n",
    "    "
   ]
  },
  {
   "cell_type": "code",
   "execution_count": 13,
   "metadata": {},
   "outputs": [
    {
     "name": "stdout",
     "output_type": "stream",
     "text": [
      "Warmup phase...\n",
      "Done with the warmup\n",
      "Episode 0 - reward: -288.704, avg. reward (past 10 ep.): -28.870, eps: 0.498 loss: 0.460 \n",
      "Episode 10 - reward: -416.154, avg. reward (past 10 ep.): -234.682, eps: 0.484 loss: 2.286 \n",
      "Complete\n",
      "Warmup phase...\n",
      "Done with the warmup\n",
      "Episode 0 - reward: -148.311, avg. reward (past 10 ep.): -14.831, eps: 0.498 loss: 1.051 \n",
      "Episode 10 - reward: -126.684, avg. reward (past 10 ep.): -172.385, eps: 0.484 loss: 0.047 \n",
      "Complete\n",
      "Warmup phase...\n",
      "Done with the warmup\n",
      "Episode 0 - reward: -368.900, avg. reward (past 10 ep.): -36.890, eps: 0.498 loss: 2.683 \n",
      "Episode 10 - reward: -143.834, avg. reward (past 10 ep.): -191.539, eps: 0.484 loss: 1.028 \n",
      "Complete\n",
      "Warmup phase...\n",
      "Done with the warmup\n",
      "Episode 0 - reward: -101.696, avg. reward (past 10 ep.): -10.170, eps: 0.498 loss: 1.407 \n",
      "Episode 10 - reward: -552.611, avg. reward (past 10 ep.): -173.948, eps: 0.484 loss: 1.096 \n",
      "Complete\n",
      "Warmup phase...\n",
      "Done with the warmup\n",
      "Episode 0 - reward: -345.824, avg. reward (past 10 ep.): -34.582, eps: 0.498 loss: 2.689 \n",
      "Episode 10 - reward: -102.627, avg. reward (past 10 ep.): -185.472, eps: 0.484 loss: 0.021 \n",
      "Complete\n",
      "Warmup phase...\n",
      "Done with the warmup\n",
      "Episode 0 - reward: -198.073, avg. reward (past 10 ep.): -19.807, eps: 0.498 loss: 1.537 \n",
      "Episode 10 - reward: -44.518, avg. reward (past 10 ep.): -250.662, eps: 0.484 loss: 0.486 \n",
      "Complete\n"
     ]
    }
   ],
   "source": [
    "data_list = []\n",
    "rewards_histories = []\n",
    "learning_rates = [0.005, 0.001, 0.0005]\n",
    "memory_sizes = [10000, 100000]\n",
    "i=0\n",
    "for lr in learning_rates:\n",
    "    for ms in memory_sizes:\n",
    "        i+=1\n",
    "        OBS_SIZE = 8\n",
    "        HIDDEN_SIZE = 64\n",
    "        ACTION_SIZE = 4\n",
    "\n",
    "        Q_network = DQN(OBS_SIZE, HIDDEN_SIZE, ACTION_SIZE).to(device)\n",
    "        Q_target = DQN(OBS_SIZE, HIDDEN_SIZE, ACTION_SIZE).to(device)\n",
    "        Q_target.load_state_dict(Q_network.state_dict())\n",
    "        Q_target.eval()\n",
    "\n",
    "        TARGET_UPDATE = 20\n",
    "\n",
    "        optimizer = optim.Adam(Q_network.parameters(), lr=lr)\n",
    "        memory = ReplayMemory(ms)\n",
    "\n",
    "        class E_Greedy_Policy():\n",
    "            \n",
    "            def __init__(self, epsilon, decay, min_epsilon):\n",
    "                self.epsilon = epsilon\n",
    "                self.epsilon_start = epsilon\n",
    "                self.decay = decay\n",
    "                self.epsilon_min = min_epsilon\n",
    "                        \n",
    "            def __call__(self, state):\n",
    "                is_greedy = random.random() > self.epsilon\n",
    "                if is_greedy :\n",
    "                    # we select greedy action\n",
    "                    with T.no_grad():\n",
    "                        Q_network.eval()\n",
    "                        index_action = Q_network(state).argmax().detach().cpu().numpy().item()  # state is on cpu instead of GPU!\n",
    "                        Q_network.train()\n",
    "\n",
    "                else:\n",
    "                    # we sample a random action\n",
    "                    index_action = env.action_space.sample() # select random action (4 possible values)\n",
    "                \n",
    "                return index_action\n",
    "                        \n",
    "            def update_epsilon(self):\n",
    "                \n",
    "                self.epsilon = self.epsilon*self.decay\n",
    "                if self.epsilon < self.epsilon_min:\n",
    "                    self.epsilon = self.epsilon_min\n",
    "                \n",
    "            def reset(self):\n",
    "                self.epsilon = self.epsilon_start\n",
    "\n",
    "        policy = E_Greedy_Policy(epsilon=0.5, decay=0.997, min_epsilon=0.001)\n",
    "        BATCH_SIZE = 64\n",
    "        GAMMA = 0.99\n",
    "\n",
    "        def optimize_model():\n",
    "            transitions = memory.sample(BATCH_SIZE)\n",
    "            batch = Transition(*zip(*transitions))\n",
    "\n",
    "            # Compute a mask of non-final states and concatenate the batch elements\n",
    "            non_final_mask = T.tensor(tuple(map(lambda s: s is not None, batch.next_state)), device=device, dtype=T.bool)\n",
    "            non_final_next_states = T.cat([s for s in batch.next_state if s is not None])\n",
    "            non_final_next_states = T.reshape(non_final_next_states, (non_final_mask.sum(), -1)).float().to(device)  # Reshape to (nr. non final, 8)\n",
    "\n",
    "            state_batch = T.cat(batch.state).float().to(device)  # .float().to(device) to move to GPU\n",
    "            state_batch = T.reshape(state_batch, (BATCH_SIZE, -1))  # Reshape to (batch_size, 8)\n",
    "            action_batch = T.cat(batch.action).to(device)\n",
    "            reward_batch = T.cat(batch.reward).float().to(device)\n",
    "            \n",
    "            # Compute Q values using policy net\n",
    "            Q_values = Q_network(state_batch).gather(1, action_batch)\n",
    "\n",
    "            # Compute next Q values using Q_targets\n",
    "            next_Q_values = T.zeros( BATCH_SIZE, device=device).to(device)\n",
    "            next_Q_values[non_final_mask] = Q_target(non_final_next_states).max(1)[0].detach()\n",
    "            next_Q_values = next_Q_values.unsqueeze(1)\n",
    "            \n",
    "            # Compute targets\n",
    "            target_Q_values = (next_Q_values * GAMMA) + reward_batch\n",
    "            \n",
    "            # Compute MSE Loss\n",
    "            loss = F.mse_loss(Q_values, target_Q_values)\n",
    "            \n",
    "            # Optimize the model\n",
    "            optimizer.zero_grad()\n",
    "            loss.backward()\n",
    "            \n",
    "            # Trick: gradient clipping\n",
    "            for param in Q_network.parameters():\n",
    "                param.grad.data.clamp_(-1, 1)\n",
    "                \n",
    "            optimizer.step()\n",
    "            \n",
    "            return loss\n",
    "\n",
    "        env = gym.make(\"LunarLander-v2\")  # create environment\n",
    "\n",
    "        num_episodes = 1500\n",
    "        policy.reset()\n",
    "        rewards_history = []\n",
    "\n",
    "        # Warmup phase!\n",
    "        memory_filled = False\n",
    "        print('**************** Parameters: lr={}, ms={} **************** '.format(lr, ms))\n",
    "        print(\"Warmup phase...\")\n",
    "        while not memory_filled:\n",
    "            \n",
    "            state = env.reset()  # 8 states: coordinates of the lander (x,y), linear velocities (x,y), angle, angular velocity, 2 bools if each leg is touches ground.\n",
    "            done = False\n",
    "            total_reward = 0\n",
    "            \n",
    "            while not done:  # for each episode\n",
    "                # Get action and act in the world\n",
    "                state_tensor = T.from_numpy(state).float().to(device)\n",
    "                action = policy(state_tensor)  # <<--- choose greedy (choose index of highest q-value predicted by network) or exploration\n",
    "                next_state, reward, done, __ = env.step(action)\n",
    "                total_reward += float(reward)\n",
    "                \n",
    "                # Observe new state\n",
    "                if done:\n",
    "                    next_state = None\n",
    "\n",
    "                # Store the transition in memory\n",
    "                memory.save_transition(state, action, next_state, float(reward))\n",
    "                state = next_state\n",
    "\n",
    "            memory_filled = memory.capacity == len(memory)\n",
    "\n",
    "        print('Done with the warmup')\n",
    "            \n",
    "        for i_episode in range(num_episodes):\n",
    "            # New dungeon at every run\n",
    "            state = env.reset()\n",
    "            done = False\n",
    "            total_reward = 0\n",
    "            \n",
    "            \n",
    "            while not done:  # iterate through states\n",
    "                \n",
    "                # Get action and act in the world\n",
    "                state_tensor = T.from_numpy(state).float().to(device)  # <<--- convert state to tensor and move to GPU\n",
    "                \n",
    "                action = policy(state_tensor)   # choose greedy (index of q-value predictions) or exploration\n",
    "                next_state, reward, done, __ = env.step(action)\n",
    "                total_reward += float(reward)\n",
    "                \n",
    "                # Observe new state\n",
    "                if done:\n",
    "                    next_state = None\n",
    "                memory.save_transition(state, action, next_state, float(reward))  # Store the transition in memory\n",
    "                state = next_state  # Move to the next state\n",
    "\n",
    "                # Perform one step of the optimization\n",
    "                loss = optimize_model()\n",
    "\n",
    "            policy.update_epsilon()\n",
    "            rewards_history.append( float(total_reward) )\n",
    "\n",
    "            \n",
    "            # Update the target network, copying all weights and biases in DQN\n",
    "            if i_episode % TARGET_UPDATE == 0:\n",
    "                Q_target.load_state_dict(Q_network.state_dict())\n",
    "            \n",
    "            if i_episode % 10 == 0:\n",
    "                avg_rewards_10 = sum(rewards_history[-10:])/10\n",
    "\n",
    "                print('Episode {} - reward: {:.3f}, avg. reward (past 10 ep.): {:.3f}, eps: {:.3f} loss: {:.3f} '.format(\n",
    "                    i_episode, total_reward, avg_rewards_10, policy.epsilon, loss))   \n",
    "        \n",
    "        rewards_histories.append(rewards_history)\n",
    "        data = [i, lr, ms, rewards_histories]\n",
    "        data_list.append(data)\n",
    "        print('Complete')\n"
   ]
  },
  {
   "cell_type": "code",
   "execution_count": 14,
   "metadata": {},
   "outputs": [],
   "source": [
    "# save data_list\n",
    "with open('data_list.pkl', 'wb') as f:\n",
    "    pkl.dump(data_list, f)\n"
   ]
  },
  {
   "cell_type": "markdown",
   "metadata": {},
   "source": [
    "# Epsilon-greedy policy"
   ]
  },
  {
   "cell_type": "markdown",
   "metadata": {},
   "source": [
    "# Exercise 5 - Training loop"
   ]
  },
  {
   "cell_type": "code",
   "execution_count": null,
   "metadata": {},
   "outputs": [],
   "source": []
  },
  {
   "cell_type": "code",
   "execution_count": null,
   "metadata": {},
   "outputs": [],
   "source": []
  },
  {
   "cell_type": "code",
   "execution_count": 15,
   "metadata": {},
   "outputs": [
    {
     "data": {
      "image/png": "[encoded data removed]",
      "text/plain": [
       "<Figure size 432x288 with 1 Axes>"
      ]
     },
     "metadata": {
      "needs_background": "light"
     },
     "output_type": "display_data"
    }
   ],
   "source": [
    "plt.plot(rewards_history, '-')\n",
    "# add 100 episode moving average\n",
    "avg_rewards_history = np.convolve(rewards_history, np.ones((100,))/100, mode='valid')\n",
    "plt.plot(avg_rewards_history, '-')\n",
    "plt.title('Rewards')\n",
    "plt.show()"
   ]
  },
  {
   "cell_type": "code",
   "execution_count": null,
   "metadata": {},
   "outputs": [],
   "source": []
  }
 ],
 "metadata": {
  "interpreter": {
   "hash": "9ef810184dd1ed1e7e90889c2154f0f529619798a6f354d5d90c8edd2323b55a"
  },
  "kernelspec": {
   "display_name": "Python 3.9.7 ('NC')",
   "language": "python",
   "name": "python3"
  },
  "language_info": {
   "codemirror_mode": {
    "name": "ipython",
    "version": 3
   },
   "file_extension": ".py",
   "mimetype": "text/x-python",
   "name": "python",
   "nbconvert_exporter": "python",
   "pygments_lexer": "ipython3",
   "version": "3.9.7"
  },
  "orig_nbformat": 4
 },
 "nbformat": 4,
 "nbformat_minor": 2
}
