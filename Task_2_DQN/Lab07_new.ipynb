{
 "cells": [
  {
   "cell_type": "code",
   "execution_count": 1,
   "metadata": {
    "colab": {
     "base_uri": "https://localhost:8080/"
    },
    "id": "xhRVpY12qvzD",
    "outputId": "0c4fe4f8-596c-42e9-b811-2f8f5480d928"
   },
   "outputs": [],
   "source": [
    "#from google.colab import drive\n",
    "#drive.mount('/content/gdrive')\n",
    "#path = '/content/gdrive/My Drive/Colab Notebooks/707/Labs/'\n",
    "#import sys\n",
    "#sys.path.append(path)"
   ]
  },
  {
   "cell_type": "code",
   "execution_count": 2,
   "metadata": {
    "id": "XRSA3yCcxoCJ"
   },
   "outputs": [],
   "source": [
    "# !pip install torch\n",
    "# !pip install -U \"ray[rllib]\" torch"
   ]
  },
  {
   "cell_type": "code",
   "execution_count": 1,
   "metadata": {
    "id": "O5_A5Ok5qySo"
   },
   "outputs": [],
   "source": [
    "from dungeon.dungeon import Dungeon, index_to_actions"
   ]
  },
  {
   "cell_type": "markdown",
   "metadata": {
    "id": "9DmyE2zjr8Lj"
   },
   "source": [
    "## Step 1 - Make a Wrapper to use Dungeon with RLLib.\n",
    "\n",
    "Use the following guides:\n",
    "\n",
    "Environment wrapper:\n",
    "https://github.com/ray-project/ray/blob/81dcf9ff351d62da9c7e0493213c01765c9a2534/rllib/examples/custom_env.py#L77\n",
    "\n",
    "Gym spaces:\n",
    "https://gym.openai.com/docs/\n",
    "\n",
    "\n"
   ]
  },
  {
   "cell_type": "code",
   "execution_count": 2,
   "metadata": {
    "id": "GNAS2lX6rtNg"
   },
   "outputs": [],
   "source": [
    "import gym\n",
    "import random, math\n",
    "import numpy as np\n",
    "\n",
    "from ray.rllib.env.env_context import EnvContext\n",
    "from ray.rllib.models import ModelCatalog\n",
    "\n",
    "from gym.spaces import Discrete, Box\n",
    "\n",
    "class DungeonEnv(gym.Env):\n",
    "    \"\"\"Class that wrapps the Dungeon Environment to make it \n",
    "    compatible with RLLib.\"\"\"\n",
    "\n",
    "    def __init__(self, config: EnvContext):\n",
    "\n",
    "        dungeon_size = config.get(\"size_env\")\n",
    "\n",
    "        self.dungeon = Dungeon(N=dungeon_size)\n",
    "\n",
    "        self.action_space = Discrete(4)\n",
    "        self.observation_space = Box(-1.0, 1.0, shape=(27,), dtype=np.float32)\n",
    "        \n",
    "\n",
    "    def reset(self):\n",
    "        obs_dungeon = self.dungeon.reset()\n",
    "        obs = self.convert_observations(obs_dungeon)\n",
    "        return obs\n",
    "\n",
    "    def step(self, action):\n",
    "        assert action in [0, 1, 2, 3]\n",
    "        action_str = index_to_actions[action].name\n",
    "\n",
    "        obs_dungeon, reward, done = self.dungeon.step(action_str)\n",
    "        obs = self.convert_observations(obs_dungeon)\n",
    "\n",
    "        return obs, reward, done, {}\n",
    "\n",
    "    def seed(self, seed=None):\n",
    "        random.seed(seed)\n",
    "\n",
    "    def convert_observations(self, dungeon_obs):\n",
    "        # We normalize and concatenate observations\n",
    "        \n",
    "        relative_coord = dungeon_obs['relative_coordinates']/self.dungeon.size\n",
    "        surroundings = dungeon_obs['surroundings'] / 4\n",
    "        \n",
    "        obs = np.concatenate([relative_coord, surroundings.flatten()])\n",
    "\n",
    "        return obs\n"
   ]
  },
  {
   "cell_type": "markdown",
   "metadata": {
    "id": "QauOX-mbyqp_"
   },
   "source": [
    "## Use DQN and train your algorithm on the Dungeon environment.\n",
    "\n",
    "You can take inspiration from:\n",
    "https://docs.ray.io/en/latest/rllib/rllib-training.html#basic-python-api\n",
    "\n",
    "Experiment with the different parameters of the configuration:\n",
    "https://docs.ray.io/en/latest/rllib/rllib-algorithms.html#deep-q-networks-dqn-rainbow-parametric-dqn\n",
    "\n",
    "\n",
    "\n"
   ]
  },
  {
   "cell_type": "code",
   "execution_count": 3,
   "metadata": {
    "colab": {
     "base_uri": "https://localhost:8080/"
    },
    "id": "N3SLeKwjxz6S",
    "outputId": "87f03ac8-6a51-4d0d-c2b7-51288864d9d5"
   },
   "outputs": [
    {
     "name": "stderr",
     "output_type": "stream",
     "text": [
      "Install gputil for GPU system monitoring.\n",
      "2022-03-23 09:29:38,479\tWARNING deprecation.py:45 -- DeprecationWarning: `clear_buffer` has been deprecated. Use `Filter.reset_buffer()` instead. This will raise an error in the future!\n"
     ]
    },
    {
     "name": "stdout",
     "output_type": "stream",
     "text": [
      "-262.7142857142857\n",
      "checkpoint saved at C:\\Users\\sbrn692/ray_results\\DQNTrainer_DungeonEnv_2022-03-23_09-29-37ztp_kuiu\\checkpoint_000001\\checkpoint-1\n",
      "-267.8333333333333\n",
      "-186.3\n",
      "-179.2\n",
      "-148.36363636363637\n",
      "-117.02380952380952\n",
      "-7.470588235294118\n",
      "34.29347826086956\n",
      "46.27\n",
      "73.5\n",
      "95.28\n",
      "checkpoint saved at C:\\Users\\sbrn692/ray_results\\DQNTrainer_DungeonEnv_2022-03-23_09-29-37ztp_kuiu\\checkpoint_000011\\checkpoint-11\n",
      "123.17\n",
      "165.84\n",
      "187.85\n",
      "191.06\n",
      "189.38\n",
      "180.14\n",
      "158.6\n",
      "143.97\n",
      "127.08\n",
      "103.51\n",
      "checkpoint saved at C:\\Users\\sbrn692/ray_results\\DQNTrainer_DungeonEnv_2022-03-23_09-29-37ztp_kuiu\\checkpoint_000021\\checkpoint-21\n",
      "85.66\n",
      "63.3\n",
      "45.58\n",
      "27.8\n",
      "-0.01\n",
      "-44.83\n",
      "-62.63\n",
      "-84.95\n",
      "-102.65\n",
      "-121.64\n",
      "checkpoint saved at C:\\Users\\sbrn692/ray_results\\DQNTrainer_DungeonEnv_2022-03-23_09-29-37ztp_kuiu\\checkpoint_000031\\checkpoint-31\n",
      "-143.77\n",
      "-161.53\n",
      "-183.67\n",
      "-201.89\n",
      "-218.2\n",
      "-215.63\n",
      "-177.93\n",
      "-105.84\n",
      "5.71\n",
      "199.39\n",
      "checkpoint saved at C:\\Users\\sbrn692/ray_results\\DQNTrainer_DungeonEnv_2022-03-23_09-29-37ztp_kuiu\\checkpoint_000041\\checkpoint-41\n",
      "218.13013698630138\n",
      "218.10344827586206\n",
      "217.97916666666666\n",
      "217.96478873239437\n",
      "217.5\n",
      "218.92168674698794\n",
      "218.4516129032258\n",
      "217.92253521126761\n",
      "218.08904109589042\n",
      "217.9788732394366\n",
      "checkpoint saved at C:\\Users\\sbrn692/ray_results\\DQNTrainer_DungeonEnv_2022-03-23_09-29-37ztp_kuiu\\checkpoint_000051\\checkpoint-51\n",
      "217.63571428571427\n",
      "218.45751633986927\n",
      "218.0810810810811\n",
      "217.9375\n",
      "218.4967741935484\n",
      "217.65693430656935\n",
      "218.52597402597402\n",
      "218.006993006993\n",
      "218.24666666666667\n",
      "218.20666666666668\n",
      "checkpoint saved at C:\\Users\\sbrn692/ray_results\\DQNTrainer_DungeonEnv_2022-03-23_09-29-37ztp_kuiu\\checkpoint_000061\\checkpoint-61\n",
      "218.25\n",
      "217.82014388489208\n",
      "218.5032258064516\n",
      "218.33333333333334\n",
      "218.52903225806452\n",
      "217.93661971830986\n",
      "218.39072847682118\n",
      "217.88194444444446\n",
      "218.18243243243242\n",
      "218.2751677852349\n",
      "checkpoint saved at C:\\Users\\sbrn692/ray_results\\DQNTrainer_DungeonEnv_2022-03-23_09-29-37ztp_kuiu\\checkpoint_000071\\checkpoint-71\n",
      "218.375\n",
      "218.13513513513513\n",
      "217.91549295774647\n",
      "218.21621621621622\n",
      "217.80141843971631\n",
      "218.4805194805195\n",
      "218.5897435897436\n",
      "217.68085106382978\n",
      "218.09655172413792\n",
      "218.41447368421052\n",
      "checkpoint saved at C:\\Users\\sbrn692/ray_results\\DQNTrainer_DungeonEnv_2022-03-23_09-29-37ztp_kuiu\\checkpoint_000081\\checkpoint-81\n",
      "218.27027027027026\n",
      "217.93959731543623\n",
      "218.33333333333334\n",
      "218.25333333333333\n",
      "217.50735294117646\n",
      "218.03496503496504\n",
      "218.74375\n",
      "218.26490066225165\n",
      "217.9041095890411\n",
      "218.2751677852349\n",
      "checkpoint saved at C:\\Users\\sbrn692/ray_results\\DQNTrainer_DungeonEnv_2022-03-23_09-29-37ztp_kuiu\\checkpoint_000091\\checkpoint-91\n",
      "218.14666666666668\n",
      "218.3684210526316\n",
      "217.97241379310344\n",
      "218.156462585034\n",
      "218.26315789473685\n",
      "218.48366013071896\n",
      "218.32450331125827\n",
      "218.36\n",
      "218.375\n"
     ]
    }
   ],
   "source": [
    "import ray\n",
    "import ray.rllib.agents.dqn as dqn\n",
    "from ray.tune.logger import pretty_print\n",
    "\n",
    "config = dqn.DEFAULT_CONFIG.copy()\n",
    "config[\"framework\"] = \"torch\"\n",
    "config[\"dueling\"] = False\n",
    "config[\"double_q\"] = False\n",
    "config[\"env\"] = DungeonEnv\n",
    "config[\"env_config\"] = { \"size_env\": 15}\n",
    "config[\"model\"] = { \"fcnet_hiddens\": [64, 64],\n",
    "                    \"fcnet_activation\": \"relu\",\n",
    "    }\n",
    "\n",
    "trainer = dqn.DQNTrainer(config=config)\n",
    "\n",
    "# Can optionally call trainer.restore(path) to load a checkpoint.\n",
    "\n",
    "avg_rewards = []\n",
    "\n",
    "for i in range(100):\n",
    "    # Perform one iteration of training the policy with PPO\n",
    "    result = trainer.train()\n",
    "    #print(pretty_print(result))\n",
    "    print(result['episode_reward_mean'])\n",
    "    avg_rewards.append(result['episode_reward_mean'])\n",
    "\n",
    "    if i % 10 == 0:\n",
    "        checkpoint = trainer.save()\n",
    "        print(\"checkpoint saved at\", checkpoint)\n"
   ]
  },
  {
   "cell_type": "code",
   "execution_count": 4,
   "metadata": {
    "colab": {
     "base_uri": "https://localhost:8080/",
     "height": 283
    },
    "id": "JaD__-oszpwu",
    "outputId": "f2aef392-3e19-43bf-fd7a-badb688726c7"
   },
   "outputs": [
    {
     "data": {
      "text/plain": [
       "[<matplotlib.lines.Line2D at 0x1e3e5810dc0>]"
      ]
     },
     "execution_count": 4,
     "metadata": {},
     "output_type": "execute_result"
    },
    {
     "data": {
      "image/png": "[encoded data removed]",
      "text/plain": [
       "<Figure size 432x288 with 1 Axes>"
      ]
     },
     "metadata": {
      "needs_background": "light"
     },
     "output_type": "display_data"
    }
   ],
   "source": [
    "import matplotlib.pyplot as plt\n",
    "plt.plot(avg_rewards, 'b.', alpha=.1)"
   ]
  },
  {
   "cell_type": "code",
   "execution_count": 6,
   "metadata": {
    "id": "3fQhxxi98ECW"
   },
   "outputs": [],
   "source": []
  }
 ],
 "metadata": {
  "colab": {
   "name": "Lab07.ipynb",
   "provenance": []
  },
  "kernelspec": {
   "display_name": "Python 3 (ipykernel)",
   "language": "python",
   "name": "python3"
  },
  "language_info": {
   "codemirror_mode": {
    "name": "ipython",
    "version": 3
   },
   "file_extension": ".py",
   "mimetype": "text/x-python",
   "name": "python",
   "nbconvert_exporter": "python",
   "pygments_lexer": "ipython3",
   "version": "3.9.7"
  }
 },
 "nbformat": 4,
 "nbformat_minor": 4
}
